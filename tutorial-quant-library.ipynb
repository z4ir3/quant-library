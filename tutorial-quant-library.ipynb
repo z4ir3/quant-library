{
 "cells": [
  {
   "cell_type": "markdown",
   "metadata": {},
   "source": [
    "# Quantlib - Tutorial"
   ]
  },
  {
   "cell_type": "code",
   "execution_count": 119,
   "metadata": {},
   "outputs": [],
   "source": [
    "from src import quantlib as ql\n",
    "\n",
    "import pandas as pd\n",
    "import matplotlib.pyplot as plt"
   ]
  },
  {
   "cell_type": "code",
   "execution_count": 120,
   "metadata": {},
   "outputs": [
    {
     "name": "stdout",
     "output_type": "stream",
     "text": [
      "The autoreload extension is already loaded. To reload it, use:\n",
      "  %reload_ext autoreload\n"
     ]
    }
   ],
   "source": [
    "%load_ext autoreload\n",
    "%autoreload 2\n",
    "#%matplotlib inline"
   ]
  },
  {
   "cell_type": "code",
   "execution_count": null,
   "metadata": {},
   "outputs": [],
   "source": []
  },
  {
   "cell_type": "markdown",
   "metadata": {},
   "source": [
    "#### Loading financial time series "
   ]
  },
  {
   "cell_type": "code",
   "execution_count": 77,
   "metadata": {},
   "outputs": [],
   "source": [
    "tickers   = [\"MSFT\",\"AAPL\",\"AMZN\",\"GOOG\",\"KO\",\"GE\",\"IBM\"]\n",
    "startdate = \"2011-12-31\" \n",
    "enddate   = \"2022-12-31\" "
   ]
  },
  {
   "cell_type": "code",
   "execution_count": 78,
   "metadata": {},
   "outputs": [
    {
     "data": {
      "text/html": [
       "<div>\n",
       "<style scoped>\n",
       "    .dataframe tbody tr th:only-of-type {\n",
       "        vertical-align: middle;\n",
       "    }\n",
       "\n",
       "    .dataframe tbody tr th {\n",
       "        vertical-align: top;\n",
       "    }\n",
       "\n",
       "    .dataframe thead th {\n",
       "        text-align: right;\n",
       "    }\n",
       "</style>\n",
       "<table border=\"1\" class=\"dataframe\">\n",
       "  <thead>\n",
       "    <tr style=\"text-align: right;\">\n",
       "      <th></th>\n",
       "      <th>AAPL</th>\n",
       "      <th>AMZN</th>\n",
       "      <th>GE</th>\n",
       "      <th>GOOG</th>\n",
       "      <th>IBM</th>\n",
       "      <th>KO</th>\n",
       "      <th>MSFT</th>\n",
       "    </tr>\n",
       "    <tr>\n",
       "      <th>Date</th>\n",
       "      <th></th>\n",
       "      <th></th>\n",
       "      <th></th>\n",
       "      <th></th>\n",
       "      <th></th>\n",
       "      <th></th>\n",
       "      <th></th>\n",
       "    </tr>\n",
       "  </thead>\n",
       "  <tbody>\n",
       "    <tr>\n",
       "      <th>2012-01-03</th>\n",
       "      <td>12.500193</td>\n",
       "      <td>8.951500</td>\n",
       "      <td>86.231949</td>\n",
       "      <td>16.573130</td>\n",
       "      <td>117.096092</td>\n",
       "      <td>24.902029</td>\n",
       "      <td>21.413073</td>\n",
       "    </tr>\n",
       "    <tr>\n",
       "      <th>2012-01-04</th>\n",
       "      <td>12.567369</td>\n",
       "      <td>8.875500</td>\n",
       "      <td>87.171303</td>\n",
       "      <td>16.644611</td>\n",
       "      <td>116.618370</td>\n",
       "      <td>24.745806</td>\n",
       "      <td>21.916996</td>\n",
       "    </tr>\n",
       "    <tr>\n",
       "      <th>2012-01-05</th>\n",
       "      <td>12.706894</td>\n",
       "      <td>8.880500</td>\n",
       "      <td>87.124313</td>\n",
       "      <td>16.413727</td>\n",
       "      <td>116.065262</td>\n",
       "      <td>24.628647</td>\n",
       "      <td>22.140968</td>\n",
       "    </tr>\n",
       "    <tr>\n",
       "      <th>2012-01-06</th>\n",
       "      <td>12.839730</td>\n",
       "      <td>9.130500</td>\n",
       "      <td>87.594002</td>\n",
       "      <td>16.189817</td>\n",
       "      <td>114.732765</td>\n",
       "      <td>24.472431</td>\n",
       "      <td>22.484921</td>\n",
       "    </tr>\n",
       "    <tr>\n",
       "      <th>2012-01-09</th>\n",
       "      <td>12.819360</td>\n",
       "      <td>8.928000</td>\n",
       "      <td>88.580307</td>\n",
       "      <td>15.503389</td>\n",
       "      <td>114.135674</td>\n",
       "      <td>24.472431</td>\n",
       "      <td>22.188961</td>\n",
       "    </tr>\n",
       "    <tr>\n",
       "      <th>...</th>\n",
       "      <td>...</td>\n",
       "      <td>...</td>\n",
       "      <td>...</td>\n",
       "      <td>...</td>\n",
       "      <td>...</td>\n",
       "      <td>...</td>\n",
       "      <td>...</td>\n",
       "    </tr>\n",
       "    <tr>\n",
       "      <th>2022-12-23</th>\n",
       "      <td>131.658981</td>\n",
       "      <td>85.250000</td>\n",
       "      <td>63.848557</td>\n",
       "      <td>89.809998</td>\n",
       "      <td>139.931198</td>\n",
       "      <td>63.820000</td>\n",
       "      <td>238.133545</td>\n",
       "    </tr>\n",
       "    <tr>\n",
       "      <th>2022-12-27</th>\n",
       "      <td>129.831772</td>\n",
       "      <td>83.040001</td>\n",
       "      <td>64.668228</td>\n",
       "      <td>87.930000</td>\n",
       "      <td>140.691849</td>\n",
       "      <td>64.209999</td>\n",
       "      <td>236.367981</td>\n",
       "    </tr>\n",
       "    <tr>\n",
       "      <th>2022-12-28</th>\n",
       "      <td>125.847855</td>\n",
       "      <td>81.820000</td>\n",
       "      <td>63.989071</td>\n",
       "      <td>86.459999</td>\n",
       "      <td>138.320984</td>\n",
       "      <td>63.570000</td>\n",
       "      <td>233.944031</td>\n",
       "    </tr>\n",
       "    <tr>\n",
       "      <th>2022-12-29</th>\n",
       "      <td>129.412415</td>\n",
       "      <td>84.180000</td>\n",
       "      <td>65.378609</td>\n",
       "      <td>88.949997</td>\n",
       "      <td>139.348358</td>\n",
       "      <td>63.950001</td>\n",
       "      <td>240.407837</td>\n",
       "    </tr>\n",
       "    <tr>\n",
       "      <th>2022-12-30</th>\n",
       "      <td>129.731918</td>\n",
       "      <td>84.000000</td>\n",
       "      <td>65.409836</td>\n",
       "      <td>88.730003</td>\n",
       "      <td>139.180420</td>\n",
       "      <td>63.610001</td>\n",
       "      <td>239.220825</td>\n",
       "    </tr>\n",
       "  </tbody>\n",
       "</table>\n",
       "<p>2768 rows × 7 columns</p>\n",
       "</div>"
      ],
      "text/plain": [
       "                  AAPL       AMZN         GE       GOOG         IBM  \\\n",
       "Date                                                                  \n",
       "2012-01-03   12.500193   8.951500  86.231949  16.573130  117.096092   \n",
       "2012-01-04   12.567369   8.875500  87.171303  16.644611  116.618370   \n",
       "2012-01-05   12.706894   8.880500  87.124313  16.413727  116.065262   \n",
       "2012-01-06   12.839730   9.130500  87.594002  16.189817  114.732765   \n",
       "2012-01-09   12.819360   8.928000  88.580307  15.503389  114.135674   \n",
       "...                ...        ...        ...        ...         ...   \n",
       "2022-12-23  131.658981  85.250000  63.848557  89.809998  139.931198   \n",
       "2022-12-27  129.831772  83.040001  64.668228  87.930000  140.691849   \n",
       "2022-12-28  125.847855  81.820000  63.989071  86.459999  138.320984   \n",
       "2022-12-29  129.412415  84.180000  65.378609  88.949997  139.348358   \n",
       "2022-12-30  129.731918  84.000000  65.409836  88.730003  139.180420   \n",
       "\n",
       "                   KO        MSFT  \n",
       "Date                               \n",
       "2012-01-03  24.902029   21.413073  \n",
       "2012-01-04  24.745806   21.916996  \n",
       "2012-01-05  24.628647   22.140968  \n",
       "2012-01-06  24.472431   22.484921  \n",
       "2012-01-09  24.472431   22.188961  \n",
       "...               ...         ...  \n",
       "2022-12-23  63.820000  238.133545  \n",
       "2022-12-27  64.209999  236.367981  \n",
       "2022-12-28  63.570000  233.944031  \n",
       "2022-12-29  63.950001  240.407837  \n",
       "2022-12-30  63.610001  239.220825  \n",
       "\n",
       "[2768 rows x 7 columns]"
      ]
     },
     "execution_count": 78,
     "metadata": {},
     "output_type": "execute_result"
    }
   ],
   "source": [
    "assets = ql.getassets(tickers, startdate=startdate, enddate=enddate, datatype=\"Adj Close\")\n",
    "assets"
   ]
  },
  {
   "cell_type": "code",
   "execution_count": 79,
   "metadata": {},
   "outputs": [
    {
     "data": {
      "text/html": [
       "<div>\n",
       "<style scoped>\n",
       "    .dataframe tbody tr th:only-of-type {\n",
       "        vertical-align: middle;\n",
       "    }\n",
       "\n",
       "    .dataframe tbody tr th {\n",
       "        vertical-align: top;\n",
       "    }\n",
       "\n",
       "    .dataframe thead th {\n",
       "        text-align: right;\n",
       "    }\n",
       "</style>\n",
       "<table border=\"1\" class=\"dataframe\">\n",
       "  <thead>\n",
       "    <tr style=\"text-align: right;\">\n",
       "      <th></th>\n",
       "      <th>AAPL</th>\n",
       "      <th>AMZN</th>\n",
       "      <th>GE</th>\n",
       "      <th>GOOG</th>\n",
       "      <th>IBM</th>\n",
       "      <th>KO</th>\n",
       "      <th>MSFT</th>\n",
       "    </tr>\n",
       "    <tr>\n",
       "      <th>Date</th>\n",
       "      <th></th>\n",
       "      <th></th>\n",
       "      <th></th>\n",
       "      <th></th>\n",
       "      <th></th>\n",
       "      <th></th>\n",
       "      <th></th>\n",
       "    </tr>\n",
       "  </thead>\n",
       "  <tbody>\n",
       "    <tr>\n",
       "      <th>2012-01-04</th>\n",
       "      <td>0.005374</td>\n",
       "      <td>-0.008490</td>\n",
       "      <td>0.010893</td>\n",
       "      <td>0.004313</td>\n",
       "      <td>-0.004080</td>\n",
       "      <td>-0.006274</td>\n",
       "      <td>0.023533</td>\n",
       "    </tr>\n",
       "    <tr>\n",
       "      <th>2012-01-05</th>\n",
       "      <td>0.011102</td>\n",
       "      <td>0.000563</td>\n",
       "      <td>-0.000539</td>\n",
       "      <td>-0.013871</td>\n",
       "      <td>-0.004743</td>\n",
       "      <td>-0.004734</td>\n",
       "      <td>0.010219</td>\n",
       "    </tr>\n",
       "    <tr>\n",
       "      <th>2012-01-06</th>\n",
       "      <td>0.010454</td>\n",
       "      <td>0.028152</td>\n",
       "      <td>0.005391</td>\n",
       "      <td>-0.013642</td>\n",
       "      <td>-0.011481</td>\n",
       "      <td>-0.006343</td>\n",
       "      <td>0.015535</td>\n",
       "    </tr>\n",
       "    <tr>\n",
       "      <th>2012-01-09</th>\n",
       "      <td>-0.001587</td>\n",
       "      <td>-0.022178</td>\n",
       "      <td>0.011260</td>\n",
       "      <td>-0.042399</td>\n",
       "      <td>-0.005204</td>\n",
       "      <td>0.000000</td>\n",
       "      <td>-0.013163</td>\n",
       "    </tr>\n",
       "    <tr>\n",
       "      <th>2012-01-10</th>\n",
       "      <td>0.003581</td>\n",
       "      <td>0.004368</td>\n",
       "      <td>-0.007423</td>\n",
       "      <td>0.001092</td>\n",
       "      <td>-0.001542</td>\n",
       "      <td>0.005948</td>\n",
       "      <td>0.003605</td>\n",
       "    </tr>\n",
       "    <tr>\n",
       "      <th>...</th>\n",
       "      <td>...</td>\n",
       "      <td>...</td>\n",
       "      <td>...</td>\n",
       "      <td>...</td>\n",
       "      <td>...</td>\n",
       "      <td>...</td>\n",
       "      <td>...</td>\n",
       "    </tr>\n",
       "    <tr>\n",
       "      <th>2022-12-23</th>\n",
       "      <td>-0.002798</td>\n",
       "      <td>0.017425</td>\n",
       "      <td>0.000245</td>\n",
       "      <td>0.017562</td>\n",
       "      <td>0.005466</td>\n",
       "      <td>0.007578</td>\n",
       "      <td>0.002267</td>\n",
       "    </tr>\n",
       "    <tr>\n",
       "      <th>2022-12-27</th>\n",
       "      <td>-0.013878</td>\n",
       "      <td>-0.025924</td>\n",
       "      <td>0.012838</td>\n",
       "      <td>-0.020933</td>\n",
       "      <td>0.005436</td>\n",
       "      <td>0.006111</td>\n",
       "      <td>-0.007414</td>\n",
       "    </tr>\n",
       "    <tr>\n",
       "      <th>2022-12-28</th>\n",
       "      <td>-0.030685</td>\n",
       "      <td>-0.014692</td>\n",
       "      <td>-0.010502</td>\n",
       "      <td>-0.016718</td>\n",
       "      <td>-0.016851</td>\n",
       "      <td>-0.009967</td>\n",
       "      <td>-0.010255</td>\n",
       "    </tr>\n",
       "    <tr>\n",
       "      <th>2022-12-29</th>\n",
       "      <td>0.028324</td>\n",
       "      <td>0.028844</td>\n",
       "      <td>0.021715</td>\n",
       "      <td>0.028799</td>\n",
       "      <td>0.007427</td>\n",
       "      <td>0.005978</td>\n",
       "      <td>0.027630</td>\n",
       "    </tr>\n",
       "    <tr>\n",
       "      <th>2022-12-30</th>\n",
       "      <td>0.002469</td>\n",
       "      <td>-0.002138</td>\n",
       "      <td>0.000478</td>\n",
       "      <td>-0.002473</td>\n",
       "      <td>-0.001205</td>\n",
       "      <td>-0.005317</td>\n",
       "      <td>-0.004937</td>\n",
       "    </tr>\n",
       "  </tbody>\n",
       "</table>\n",
       "<p>2767 rows × 7 columns</p>\n",
       "</div>"
      ],
      "text/plain": [
       "                AAPL      AMZN        GE      GOOG       IBM        KO  \\\n",
       "Date                                                                     \n",
       "2012-01-04  0.005374 -0.008490  0.010893  0.004313 -0.004080 -0.006274   \n",
       "2012-01-05  0.011102  0.000563 -0.000539 -0.013871 -0.004743 -0.004734   \n",
       "2012-01-06  0.010454  0.028152  0.005391 -0.013642 -0.011481 -0.006343   \n",
       "2012-01-09 -0.001587 -0.022178  0.011260 -0.042399 -0.005204  0.000000   \n",
       "2012-01-10  0.003581  0.004368 -0.007423  0.001092 -0.001542  0.005948   \n",
       "...              ...       ...       ...       ...       ...       ...   \n",
       "2022-12-23 -0.002798  0.017425  0.000245  0.017562  0.005466  0.007578   \n",
       "2022-12-27 -0.013878 -0.025924  0.012838 -0.020933  0.005436  0.006111   \n",
       "2022-12-28 -0.030685 -0.014692 -0.010502 -0.016718 -0.016851 -0.009967   \n",
       "2022-12-29  0.028324  0.028844  0.021715  0.028799  0.007427  0.005978   \n",
       "2022-12-30  0.002469 -0.002138  0.000478 -0.002473 -0.001205 -0.005317   \n",
       "\n",
       "                MSFT  \n",
       "Date                  \n",
       "2012-01-04  0.023533  \n",
       "2012-01-05  0.010219  \n",
       "2012-01-06  0.015535  \n",
       "2012-01-09 -0.013163  \n",
       "2012-01-10  0.003605  \n",
       "...              ...  \n",
       "2022-12-23  0.002267  \n",
       "2022-12-27 -0.007414  \n",
       "2022-12-28 -0.010255  \n",
       "2022-12-29  0.027630  \n",
       "2022-12-30 -0.004937  \n",
       "\n",
       "[2767 rows x 7 columns]"
      ]
     },
     "execution_count": 79,
     "metadata": {},
     "output_type": "execute_result"
    }
   ],
   "source": [
    "rets = ql.compute_returns(assets, mpor=1, ascending=True, dropna=True)\n",
    "rets"
   ]
  },
  {
   "cell_type": "code",
   "execution_count": 35,
   "metadata": {},
   "outputs": [],
   "source": [
    "#qt.compound(rets)"
   ]
  },
  {
   "cell_type": "code",
   "execution_count": 36,
   "metadata": {},
   "outputs": [],
   "source": [
    "#qt.compound_returns(rets)"
   ]
  },
  {
   "cell_type": "code",
   "execution_count": 37,
   "metadata": {},
   "outputs": [],
   "source": [
    "#qt.compute_logreturns(assets, mpor=5, ascending=True, dropna=True)"
   ]
  },
  {
   "cell_type": "code",
   "execution_count": 38,
   "metadata": {},
   "outputs": [],
   "source": [
    "#qt.drawdown(assets, rets=False, maxd=True, percent=True)#.plot()"
   ]
  },
  {
   "cell_type": "code",
   "execution_count": 30,
   "metadata": {},
   "outputs": [],
   "source": [
    "#qt.drawdown(assets, rets=False, maxd=True, percent=True)"
   ]
  },
  {
   "cell_type": "code",
   "execution_count": 31,
   "metadata": {},
   "outputs": [],
   "source": [
    "#qt.drawdown(rets, rets=True, maxd=False, percent=True).plot()"
   ]
  },
  {
   "cell_type": "code",
   "execution_count": 32,
   "metadata": {},
   "outputs": [],
   "source": [
    "#qt.drawdown(rets, rets=True, maxd=True, percent=True)"
   ]
  },
  {
   "cell_type": "code",
   "execution_count": 33,
   "metadata": {},
   "outputs": [],
   "source": [
    "#qt.drawup(assets).plot()"
   ]
  },
  {
   "cell_type": "code",
   "execution_count": 34,
   "metadata": {},
   "outputs": [],
   "source": [
    "#qt.is_normal(rets, siglev=0.05)"
   ]
  },
  {
   "cell_type": "code",
   "execution_count": 35,
   "metadata": {},
   "outputs": [],
   "source": [
    "#qt.semistd(rets, negative=False)"
   ]
  },
  {
   "cell_type": "code",
   "execution_count": 36,
   "metadata": {},
   "outputs": [],
   "source": [
    "#qt.annualize_returns(rets, ppy=252)"
   ]
  },
  {
   "cell_type": "code",
   "execution_count": 37,
   "metadata": {},
   "outputs": [],
   "source": [
    "#qt.annualize_std(rets, ppy=252)"
   ]
  },
  {
   "cell_type": "markdown",
   "metadata": {},
   "source": [
    "#### Value-at-Risk estimators\n",
    "Can be run on both pd.Series or pd.DataFrames.\n",
    "\n",
    "Let *CL* be a Confidence Level. The (1-CL)% Value-at-Risk-based estimator is computed."
   ]
  },
  {
   "cell_type": "code",
   "execution_count": 106,
   "metadata": {},
   "outputs": [],
   "source": [
    "# Confidence level\n",
    "CL = 99/100"
   ]
  },
  {
   "cell_type": "markdown",
   "metadata": {},
   "source": [
    "**Value-at-Risk**: .var\n",
    "\n",
    "Returns the (1-CL)% VaR figure corresponding to the input Confidence Level (i.e., the (1-CL) quantile).\\\n",
    "It uses pd.quantile method, interpolation is used by default."
   ]
  },
  {
   "cell_type": "code",
   "execution_count": 107,
   "metadata": {},
   "outputs": [
    {
     "data": {
      "text/plain": [
       "AAPL   -0.048387\n",
       "dtype: float64"
      ]
     },
     "execution_count": 107,
     "metadata": {},
     "output_type": "execute_result"
    }
   ],
   "source": [
    "# pd.Series or single column pd.DataFrame\n",
    "s = rets[[\"AAPL\"]] # or rets[\"AAPL\"]\n",
    "ql.var(s, CL=CL)"
   ]
  },
  {
   "cell_type": "code",
   "execution_count": 108,
   "metadata": {},
   "outputs": [
    {
     "data": {
      "text/plain": [
       "AAPL   -0.048387\n",
       "AMZN   -0.056431\n",
       "GE     -0.059087\n",
       "GOOG   -0.047631\n",
       "IBM    -0.043399\n",
       "KO     -0.031608\n",
       "MSFT   -0.042652\n",
       "dtype: float64"
      ]
     },
     "execution_count": 108,
     "metadata": {},
     "output_type": "execute_result"
    }
   ],
   "source": [
    "# pd.DataFreme\n",
    "ql.var(rets, CL=CL)"
   ]
  },
  {
   "cell_type": "markdown",
   "metadata": {},
   "source": [
    "**Value-at-Risk under Normal distribution**: .var_normal\n",
    "\n",
    "Returns the VaR figure corresponding to the input Confidence Level by assuming normality of \n",
    "the return series.\n",
    "\n",
    "Let $\\mu$ and $\\sigma$ be the mean and the volatility of the returns $R$ \n",
    "and assume that $R\\sim N(\\mu,\\sigma)$. \n",
    "If $X\\sim N(0,1)$, then $R = \\mu + X \\sigma$.\n",
    "In this way, for computing the (1-CL)-quantile of $R$, it is suffices to compute \n",
    "the (1-CL)-quantile of the stardard normal distribution. \n",
    "\n",
    "By definition, the (1-CL)-quantile is the number $z_{CL}$ such that \n",
    "$\\mathbb{P}(R \\leq z_{CL}) = 1-CL$.\n",
    "Hence: \n",
    "\n",
    "$$\n",
    "1-CL \n",
    "= \\mathbb{P}(R \\leq z_{CL}) \n",
    "= \\mathbb{P}(\\mu+ X\\sigma \\leq z_{CL}) \n",
    "= \\mathbb{P}\\left(X \\leq \\frac{z_{CL}-\\mu}{\\sigma}\\right) \n",
    "= \\Phi\\left( \\frac{z_{CL}-\\mu}{\\sigma} \\right)\n",
    "\\qquad\\Longrightarrow\\qquad\n",
    "z_{CL} = \\mu + \\Phi^{-1}(1-{CL})\\sigma \n",
    "$$\n",
    "where $\\Phi^{-1}(1-{CL})$ is the (1-CL)-quantile of the standard normal distribution."
   ]
  },
  {
   "cell_type": "code",
   "execution_count": 109,
   "metadata": {},
   "outputs": [
    {
     "data": {
      "text/plain": [
       "AAPL   -0.041640\n",
       "AMZN   -0.046651\n",
       "GE     -0.047442\n",
       "GOOG   -0.038453\n",
       "IBM    -0.033415\n",
       "KO     -0.025581\n",
       "MSFT   -0.037870\n",
       "dtype: float64"
      ]
     },
     "execution_count": 109,
     "metadata": {},
     "output_type": "execute_result"
    }
   ],
   "source": [
    "ql.var_normal(rets, CL=CL)"
   ]
  },
  {
   "cell_type": "markdown",
   "metadata": {},
   "source": [
    "**Value-at-Risk Cornish-Fisher method**: .var_normal(cl=True)\n",
    "\n",
    "This is a modifed version of the parametric normal method for quantile computation (semi-parametric method).\n",
    "The method relates quantilies of **non Gaussian** distribution with the quantiles of the Gaussian as follows: \n",
    "$$\n",
    "\\tilde{z}_{CL} \n",
    "= z_{CL} + \\frac{1}{6}(z_{CL}^2 - 1)S \n",
    "+ \\frac{1}{24}(z_{CL}^3 - 3 z_{CL})(K-3) \n",
    "- \\frac{1}{36}(2z_{CL}^3 - 5 z_{CL})S^2\n",
    "$$\n",
    "where $\\tilde{z}_{CL}$, $S$, and $K$ denote the (1-CL)-quantile, \n",
    "the skewness, and the kurtosis of the non-Gaussian distribution \n",
    "(say, our returns series), respectively, \n",
    "and $z_{CL}$ is the (1-CL)-quantile of the standard normal distribution. \n",
    "If the input return distribution is, indeed, normal, \n",
    "then $S=0$ and $K=3$ and so $\\tilde{z}_{CL}$ would be equal to $z_{CL}$.\n",
    "\n",
    "Then, the VaR in this case will be equalt to $\\mu + \\tilde{z}_{CL}\\sigma$."
   ]
  },
  {
   "cell_type": "code",
   "execution_count": 110,
   "metadata": {},
   "outputs": [
    {
     "data": {
      "text/plain": [
       "AAPL   -0.066104\n",
       "AMZN   -0.075270\n",
       "GE     -0.082082\n",
       "GOOG   -0.066826\n",
       "IBM    -0.072159\n",
       "KO     -0.054817\n",
       "MSFT   -0.071164\n",
       "dtype: float64"
      ]
     },
     "execution_count": 110,
     "metadata": {},
     "output_type": "execute_result"
    }
   ],
   "source": [
    "ql.var_normal(rets, CL=CL, cf=True)"
   ]
  },
  {
   "cell_type": "markdown",
   "metadata": {},
   "source": [
    "**Expected Shortfall**: .es\n",
    "\n",
    "Returns the (1-CL)% Expected Shortfall figure corresponding to the input Confidence Level.\n",
    "This is defined as the average of distribution returns worst than the (1-CL)% VaR."
   ]
  },
  {
   "cell_type": "code",
   "execution_count": 111,
   "metadata": {},
   "outputs": [
    {
     "data": {
      "text/plain": [
       "AAPL   -0.068166\n",
       "AMZN   -0.074504\n",
       "GE     -0.081151\n",
       "GOOG   -0.060446\n",
       "IBM    -0.065567\n",
       "KO     -0.049247\n",
       "MSFT   -0.061645\n",
       "dtype: float64"
      ]
     },
     "execution_count": 111,
     "metadata": {},
     "output_type": "execute_result"
    }
   ],
   "source": [
    "ql.es(rets, CL=CL)"
   ]
  },
  {
   "cell_type": "markdown",
   "metadata": {},
   "source": [
    "Comparison"
   ]
  },
  {
   "cell_type": "code",
   "execution_count": 122,
   "metadata": {},
   "outputs": [
    {
     "data": {
      "image/png": "[encoded data removed]",
      "text/plain": [
       "<Figure size 1296x288 with 1 Axes>"
      ]
     },
     "metadata": {},
     "output_type": "display_data"
    }
   ],
   "source": [
    "VaRs = pd.DataFrame({\"VaR\": ql.var(rets, CL=CL),\n",
    "                     \"Normal VaR\": ql.var_normal(rets, CL=CL, cf=False),\n",
    "                     \"Normal CF VaR\": ql.var_normal(rets, CL=CL, cf=True),\n",
    "                     \"ES\": ql.es(rets, CL=CL)})\n",
    "\n",
    "title = f\"Comparison of {CL*100:.0f}% VaR estimators\"\n",
    "(VaRs * 100).plot.bar(figsize=(18,4), grid=True, title=title)\n",
    "plt.ylabel(\"%\", fontsize=15)\n",
    "plt.legend(fontsize=13)\n",
    "plt.show()"
   ]
  },
  {
   "cell_type": "markdown",
   "metadata": {},
   "source": [
    "#### Summary statistics"
   ]
  },
  {
   "cell_type": "code",
   "execution_count": 124,
   "metadata": {},
   "outputs": [
    {
     "data": {
      "text/html": [
       "<div>\n",
       "<style scoped>\n",
       "    .dataframe tbody tr th:only-of-type {\n",
       "        vertical-align: middle;\n",
       "    }\n",
       "\n",
       "    .dataframe tbody tr th {\n",
       "        vertical-align: top;\n",
       "    }\n",
       "\n",
       "    .dataframe thead th {\n",
       "        text-align: right;\n",
       "    }\n",
       "</style>\n",
       "<table border=\"1\" class=\"dataframe\">\n",
       "  <thead>\n",
       "    <tr style=\"text-align: right;\">\n",
       "      <th></th>\n",
       "      <th>AAPL</th>\n",
       "      <th>AMZN</th>\n",
       "      <th>GE</th>\n",
       "      <th>GOOG</th>\n",
       "      <th>IBM</th>\n",
       "      <th>KO</th>\n",
       "      <th>MSFT</th>\n",
       "    </tr>\n",
       "  </thead>\n",
       "  <tbody>\n",
       "    <tr>\n",
       "      <th>(Ann.) Returns</th>\n",
       "      <td>0.237492</td>\n",
       "      <td>0.226191</td>\n",
       "      <td>-0.024856</td>\n",
       "      <td>0.165097</td>\n",
       "      <td>0.015860</td>\n",
       "      <td>0.089164</td>\n",
       "      <td>0.245821</td>\n",
       "    </tr>\n",
       "    <tr>\n",
       "      <th>(Ann.) Std</th>\n",
       "      <td>0.291064</td>\n",
       "      <td>0.325284</td>\n",
       "      <td>0.324477</td>\n",
       "      <td>0.267496</td>\n",
       "      <td>0.229157</td>\n",
       "      <td>0.177299</td>\n",
       "      <td>0.265326</td>\n",
       "    </tr>\n",
       "    <tr>\n",
       "      <th>Skewness</th>\n",
       "      <td>-0.072334</td>\n",
       "      <td>0.412764</td>\n",
       "      <td>0.166840</td>\n",
       "      <td>0.423256</td>\n",
       "      <td>-0.539957</td>\n",
       "      <td>-0.664707</td>\n",
       "      <td>0.034956</td>\n",
       "    </tr>\n",
       "    <tr>\n",
       "      <th>Kurtosis</th>\n",
       "      <td>8.487689</td>\n",
       "      <td>10.548673</td>\n",
       "      <td>10.819122</td>\n",
       "      <td>11.823880</td>\n",
       "      <td>13.250569</td>\n",
       "      <td>12.816791</td>\n",
       "      <td>11.632546</td>\n",
       "    </tr>\n",
       "    <tr>\n",
       "      <th>VaR 0.99</th>\n",
       "      <td>-0.048387</td>\n",
       "      <td>-0.056431</td>\n",
       "      <td>-0.059087</td>\n",
       "      <td>-0.047631</td>\n",
       "      <td>-0.043399</td>\n",
       "      <td>-0.031608</td>\n",
       "      <td>-0.042652</td>\n",
       "    </tr>\n",
       "    <tr>\n",
       "      <th>Normal VaR 0.99</th>\n",
       "      <td>-0.041640</td>\n",
       "      <td>-0.046651</td>\n",
       "      <td>-0.047442</td>\n",
       "      <td>-0.038453</td>\n",
       "      <td>-0.033415</td>\n",
       "      <td>-0.025581</td>\n",
       "      <td>-0.037870</td>\n",
       "    </tr>\n",
       "    <tr>\n",
       "      <th>Normal CF VaR 0.99</th>\n",
       "      <td>-0.066104</td>\n",
       "      <td>-0.075270</td>\n",
       "      <td>-0.082082</td>\n",
       "      <td>-0.066826</td>\n",
       "      <td>-0.072159</td>\n",
       "      <td>-0.054817</td>\n",
       "      <td>-0.071164</td>\n",
       "    </tr>\n",
       "    <tr>\n",
       "      <th>ES 0.99</th>\n",
       "      <td>-0.068166</td>\n",
       "      <td>-0.074504</td>\n",
       "      <td>-0.081151</td>\n",
       "      <td>-0.060446</td>\n",
       "      <td>-0.065567</td>\n",
       "      <td>-0.049247</td>\n",
       "      <td>-0.061645</td>\n",
       "    </tr>\n",
       "    <tr>\n",
       "      <th>Max Drawdown</th>\n",
       "      <td>-0.437972</td>\n",
       "      <td>-0.561453</td>\n",
       "      <td>-0.811914</td>\n",
       "      <td>-0.446018</td>\n",
       "      <td>-0.437200</td>\n",
       "      <td>-0.369875</td>\n",
       "      <td>-0.371485</td>\n",
       "    </tr>\n",
       "    <tr>\n",
       "      <th>Minimum</th>\n",
       "      <td>-0.128647</td>\n",
       "      <td>-0.140494</td>\n",
       "      <td>-0.151592</td>\n",
       "      <td>-0.111008</td>\n",
       "      <td>-0.128507</td>\n",
       "      <td>-0.096725</td>\n",
       "      <td>-0.147391</td>\n",
       "    </tr>\n",
       "    <tr>\n",
       "      <th>Maximum</th>\n",
       "      <td>0.119808</td>\n",
       "      <td>0.157457</td>\n",
       "      <td>0.147299</td>\n",
       "      <td>0.160524</td>\n",
       "      <td>0.113010</td>\n",
       "      <td>0.064796</td>\n",
       "      <td>0.142169</td>\n",
       "    </tr>\n",
       "  </tbody>\n",
       "</table>\n",
       "</div>"
      ],
      "text/plain": [
       "                        AAPL       AMZN         GE       GOOG        IBM  \\\n",
       "(Ann.) Returns      0.237492   0.226191  -0.024856   0.165097   0.015860   \n",
       "(Ann.) Std          0.291064   0.325284   0.324477   0.267496   0.229157   \n",
       "Skewness           -0.072334   0.412764   0.166840   0.423256  -0.539957   \n",
       "Kurtosis            8.487689  10.548673  10.819122  11.823880  13.250569   \n",
       "VaR 0.99           -0.048387  -0.056431  -0.059087  -0.047631  -0.043399   \n",
       "Normal VaR 0.99    -0.041640  -0.046651  -0.047442  -0.038453  -0.033415   \n",
       "Normal CF VaR 0.99 -0.066104  -0.075270  -0.082082  -0.066826  -0.072159   \n",
       "ES 0.99            -0.068166  -0.074504  -0.081151  -0.060446  -0.065567   \n",
       "Max Drawdown       -0.437972  -0.561453  -0.811914  -0.446018  -0.437200   \n",
       "Minimum            -0.128647  -0.140494  -0.151592  -0.111008  -0.128507   \n",
       "Maximum             0.119808   0.157457   0.147299   0.160524   0.113010   \n",
       "\n",
       "                           KO       MSFT  \n",
       "(Ann.) Returns       0.089164   0.245821  \n",
       "(Ann.) Std           0.177299   0.265326  \n",
       "Skewness            -0.664707   0.034956  \n",
       "Kurtosis            12.816791  11.632546  \n",
       "VaR 0.99            -0.031608  -0.042652  \n",
       "Normal VaR 0.99     -0.025581  -0.037870  \n",
       "Normal CF VaR 0.99  -0.054817  -0.071164  \n",
       "ES 0.99             -0.049247  -0.061645  \n",
       "Max Drawdown        -0.369875  -0.371485  \n",
       "Minimum             -0.096725  -0.147391  \n",
       "Maximum              0.064796   0.142169  "
      ]
     },
     "execution_count": 124,
     "metadata": {},
     "output_type": "execute_result"
    }
   ],
   "source": [
    "ql.summary_stats(rets, CL=CL)"
   ]
  },
  {
   "cell_type": "code",
   "execution_count": null,
   "metadata": {},
   "outputs": [],
   "source": []
  },
  {
   "cell_type": "code",
   "execution_count": null,
   "metadata": {},
   "outputs": [],
   "source": []
  },
  {
   "cell_type": "code",
   "execution_count": null,
   "metadata": {},
   "outputs": [],
   "source": []
  },
  {
   "cell_type": "code",
   "execution_count": null,
   "metadata": {},
   "outputs": [],
   "source": []
  },
  {
   "cell_type": "code",
   "execution_count": null,
   "metadata": {},
   "outputs": [],
   "source": []
  },
  {
   "cell_type": "code",
   "execution_count": null,
   "metadata": {},
   "outputs": [],
   "source": []
  },
  {
   "cell_type": "code",
   "execution_count": null,
   "metadata": {},
   "outputs": [],
   "source": []
  },
  {
   "cell_type": "code",
   "execution_count": null,
   "metadata": {},
   "outputs": [],
   "source": []
  },
  {
   "cell_type": "code",
   "execution_count": 39,
   "metadata": {},
   "outputs": [],
   "source": [
    "#rets.kurt()\n",
    "#qt.kurtosis(rets, excess=True)"
   ]
  },
  {
   "cell_type": "code",
   "execution_count": 122,
   "metadata": {},
   "outputs": [],
   "source": [
    "#qt.sample_cov(rets)\n",
    "#qt.cc_cov(rets)\n",
    "#qt.shrinkage_cov(rets, delta=0.3)"
   ]
  },
  {
   "cell_type": "code",
   "execution_count": null,
   "metadata": {},
   "outputs": [],
   "source": []
  }
 ],
 "metadata": {
  "kernelspec": {
   "display_name": "Python 3 (ipykernel)",
   "language": "python",
   "name": "python3"
  },
  "language_info": {
   "codemirror_mode": {
    "name": "ipython",
    "version": 3
   },
   "file_extension": ".py",
   "mimetype": "text/x-python",
   "name": "python",
   "nbconvert_exporter": "python",
   "pygments_lexer": "ipython3",
   "version": "3.9.7"
  }
 },
 "nbformat": 4,
 "nbformat_minor": 4
}
