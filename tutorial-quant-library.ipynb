{
 "cells": [
  {
   "cell_type": "markdown",
   "metadata": {},
   "source": [
    "# Quantlib - Tutorial"
   ]
  },
  {
   "cell_type": "code",
   "execution_count": 3,
   "metadata": {},
   "outputs": [
    {
     "name": "stdout",
     "output_type": "stream",
     "text": [
      "The autoreload extension is already loaded. To reload it, use:\n",
      "  %reload_ext autoreload\n"
     ]
    }
   ],
   "source": [
    "from src import quantlib as ql\n",
    "%load_ext autoreload\n",
    "%autoreload 2\n",
    "\n",
    "%matplotlib inline"
   ]
  },
  {
   "cell_type": "code",
   "execution_count": 6,
   "metadata": {},
   "outputs": [],
   "source": [
    "import pandas as pd\n",
    "import matplotlib.pyplot as plt"
   ]
  },
  {
   "cell_type": "markdown",
   "metadata": {
    "jp-MarkdownHeadingCollapsed": true,
    "tags": []
   },
   "source": [
    "### Financial price time series "
   ]
  },
  {
   "cell_type": "code",
   "execution_count": 7,
   "metadata": {},
   "outputs": [],
   "source": [
    "# Example tickers and dates\n",
    "tickers   = [\"MSFT\",\"AAPL\",\"AMZN\",\"GOOG\",\"KO\",\"GE\",\"IBM\"]\n",
    "startdate = \"2011-12-31\" \n",
    "enddate   = \"2022-12-31\" "
   ]
  },
  {
   "cell_type": "markdown",
   "metadata": {},
   "source": [
    "Get \"Adj Close\" prices from **yahoo finance**"
   ]
  },
  {
   "cell_type": "code",
   "execution_count": 8,
   "metadata": {},
   "outputs": [
    {
     "data": {
      "text/html": [
       "<div>\n",
       "<style scoped>\n",
       "    .dataframe tbody tr th:only-of-type {\n",
       "        vertical-align: middle;\n",
       "    }\n",
       "\n",
       "    .dataframe tbody tr th {\n",
       "        vertical-align: top;\n",
       "    }\n",
       "\n",
       "    .dataframe thead th {\n",
       "        text-align: right;\n",
       "    }\n",
       "</style>\n",
       "<table border=\"1\" class=\"dataframe\">\n",
       "  <thead>\n",
       "    <tr style=\"text-align: right;\">\n",
       "      <th></th>\n",
       "      <th>AAPL</th>\n",
       "      <th>AMZN</th>\n",
       "      <th>GE</th>\n",
       "      <th>GOOG</th>\n",
       "      <th>IBM</th>\n",
       "      <th>KO</th>\n",
       "      <th>MSFT</th>\n",
       "    </tr>\n",
       "    <tr>\n",
       "      <th>Date</th>\n",
       "      <th></th>\n",
       "      <th></th>\n",
       "      <th></th>\n",
       "      <th></th>\n",
       "      <th></th>\n",
       "      <th></th>\n",
       "      <th></th>\n",
       "    </tr>\n",
       "  </thead>\n",
       "  <tbody>\n",
       "    <tr>\n",
       "      <th>2012-01-03</th>\n",
       "      <td>12.500191</td>\n",
       "      <td>8.951500</td>\n",
       "      <td>86.152107</td>\n",
       "      <td>16.573130</td>\n",
       "      <td>117.096039</td>\n",
       "      <td>24.902021</td>\n",
       "      <td>21.413067</td>\n",
       "    </tr>\n",
       "    <tr>\n",
       "      <th>2012-01-04</th>\n",
       "      <td>12.567369</td>\n",
       "      <td>8.875500</td>\n",
       "      <td>87.090569</td>\n",
       "      <td>16.644611</td>\n",
       "      <td>116.618370</td>\n",
       "      <td>24.745798</td>\n",
       "      <td>21.916998</td>\n",
       "    </tr>\n",
       "    <tr>\n",
       "      <th>2012-01-05</th>\n",
       "      <td>12.706894</td>\n",
       "      <td>8.880500</td>\n",
       "      <td>87.043648</td>\n",
       "      <td>16.413727</td>\n",
       "      <td>116.065247</td>\n",
       "      <td>24.628651</td>\n",
       "      <td>22.140961</td>\n",
       "    </tr>\n",
       "    <tr>\n",
       "      <th>2012-01-06</th>\n",
       "      <td>12.839728</td>\n",
       "      <td>9.130500</td>\n",
       "      <td>87.512886</td>\n",
       "      <td>16.189817</td>\n",
       "      <td>114.732750</td>\n",
       "      <td>24.472433</td>\n",
       "      <td>22.484922</td>\n",
       "    </tr>\n",
       "    <tr>\n",
       "      <th>2012-01-09</th>\n",
       "      <td>12.819362</td>\n",
       "      <td>8.928000</td>\n",
       "      <td>88.498276</td>\n",
       "      <td>15.503389</td>\n",
       "      <td>114.135651</td>\n",
       "      <td>24.472433</td>\n",
       "      <td>22.188961</td>\n",
       "    </tr>\n",
       "    <tr>\n",
       "      <th>...</th>\n",
       "      <td>...</td>\n",
       "      <td>...</td>\n",
       "      <td>...</td>\n",
       "      <td>...</td>\n",
       "      <td>...</td>\n",
       "      <td>...</td>\n",
       "      <td>...</td>\n",
       "    </tr>\n",
       "    <tr>\n",
       "      <th>2022-12-23</th>\n",
       "      <td>131.658981</td>\n",
       "      <td>85.250000</td>\n",
       "      <td>63.789425</td>\n",
       "      <td>89.809998</td>\n",
       "      <td>139.931198</td>\n",
       "      <td>63.820000</td>\n",
       "      <td>238.133545</td>\n",
       "    </tr>\n",
       "    <tr>\n",
       "      <th>2022-12-27</th>\n",
       "      <td>129.831772</td>\n",
       "      <td>83.040001</td>\n",
       "      <td>64.608337</td>\n",
       "      <td>87.930000</td>\n",
       "      <td>140.691849</td>\n",
       "      <td>64.209999</td>\n",
       "      <td>236.367981</td>\n",
       "    </tr>\n",
       "    <tr>\n",
       "      <th>2022-12-28</th>\n",
       "      <td>125.847855</td>\n",
       "      <td>81.820000</td>\n",
       "      <td>63.929810</td>\n",
       "      <td>86.459999</td>\n",
       "      <td>138.320984</td>\n",
       "      <td>63.570000</td>\n",
       "      <td>233.944031</td>\n",
       "    </tr>\n",
       "    <tr>\n",
       "      <th>2022-12-29</th>\n",
       "      <td>129.412415</td>\n",
       "      <td>84.180000</td>\n",
       "      <td>65.318062</td>\n",
       "      <td>88.949997</td>\n",
       "      <td>139.348358</td>\n",
       "      <td>63.950001</td>\n",
       "      <td>240.407837</td>\n",
       "    </tr>\n",
       "    <tr>\n",
       "      <th>2022-12-30</th>\n",
       "      <td>129.731918</td>\n",
       "      <td>84.000000</td>\n",
       "      <td>65.349258</td>\n",
       "      <td>88.730003</td>\n",
       "      <td>139.180420</td>\n",
       "      <td>63.610001</td>\n",
       "      <td>239.220825</td>\n",
       "    </tr>\n",
       "  </tbody>\n",
       "</table>\n",
       "<p>2768 rows × 7 columns</p>\n",
       "</div>"
      ],
      "text/plain": [
       "                  AAPL       AMZN         GE       GOOG         IBM  \\\n",
       "Date                                                                  \n",
       "2012-01-03   12.500191   8.951500  86.152107  16.573130  117.096039   \n",
       "2012-01-04   12.567369   8.875500  87.090569  16.644611  116.618370   \n",
       "2012-01-05   12.706894   8.880500  87.043648  16.413727  116.065247   \n",
       "2012-01-06   12.839728   9.130500  87.512886  16.189817  114.732750   \n",
       "2012-01-09   12.819362   8.928000  88.498276  15.503389  114.135651   \n",
       "...                ...        ...        ...        ...         ...   \n",
       "2022-12-23  131.658981  85.250000  63.789425  89.809998  139.931198   \n",
       "2022-12-27  129.831772  83.040001  64.608337  87.930000  140.691849   \n",
       "2022-12-28  125.847855  81.820000  63.929810  86.459999  138.320984   \n",
       "2022-12-29  129.412415  84.180000  65.318062  88.949997  139.348358   \n",
       "2022-12-30  129.731918  84.000000  65.349258  88.730003  139.180420   \n",
       "\n",
       "                   KO        MSFT  \n",
       "Date                               \n",
       "2012-01-03  24.902021   21.413067  \n",
       "2012-01-04  24.745798   21.916998  \n",
       "2012-01-05  24.628651   22.140961  \n",
       "2012-01-06  24.472433   22.484922  \n",
       "2012-01-09  24.472433   22.188961  \n",
       "...               ...         ...  \n",
       "2022-12-23  63.820000  238.133545  \n",
       "2022-12-27  64.209999  236.367981  \n",
       "2022-12-28  63.570000  233.944031  \n",
       "2022-12-29  63.950001  240.407837  \n",
       "2022-12-30  63.610001  239.220825  \n",
       "\n",
       "[2768 rows x 7 columns]"
      ]
     },
     "execution_count": 8,
     "metadata": {},
     "output_type": "execute_result"
    }
   ],
   "source": [
    "assets = ql.getassets(tickers, startdate=startdate, enddate=enddate, datatype=\"Adj Close\")\n",
    "assets"
   ]
  },
  {
   "cell_type": "markdown",
   "metadata": {
    "jp-MarkdownHeadingCollapsed": true,
    "tags": []
   },
   "source": [
    "### Arithmetic returns "
   ]
  },
  {
   "cell_type": "code",
   "execution_count": 9,
   "metadata": {},
   "outputs": [
    {
     "data": {
      "text/html": [
       "<div>\n",
       "<style scoped>\n",
       "    .dataframe tbody tr th:only-of-type {\n",
       "        vertical-align: middle;\n",
       "    }\n",
       "\n",
       "    .dataframe tbody tr th {\n",
       "        vertical-align: top;\n",
       "    }\n",
       "\n",
       "    .dataframe thead th {\n",
       "        text-align: right;\n",
       "    }\n",
       "</style>\n",
       "<table border=\"1\" class=\"dataframe\">\n",
       "  <thead>\n",
       "    <tr style=\"text-align: right;\">\n",
       "      <th></th>\n",
       "      <th>AAPL</th>\n",
       "      <th>AMZN</th>\n",
       "      <th>GE</th>\n",
       "      <th>GOOG</th>\n",
       "      <th>IBM</th>\n",
       "      <th>KO</th>\n",
       "      <th>MSFT</th>\n",
       "    </tr>\n",
       "    <tr>\n",
       "      <th>Date</th>\n",
       "      <th></th>\n",
       "      <th></th>\n",
       "      <th></th>\n",
       "      <th></th>\n",
       "      <th></th>\n",
       "      <th></th>\n",
       "      <th></th>\n",
       "    </tr>\n",
       "  </thead>\n",
       "  <tbody>\n",
       "    <tr>\n",
       "      <th>2012-01-04</th>\n",
       "      <td>0.005374</td>\n",
       "      <td>-0.008490</td>\n",
       "      <td>0.010893</td>\n",
       "      <td>0.004313</td>\n",
       "      <td>-0.004079</td>\n",
       "      <td>-0.006273</td>\n",
       "      <td>0.023534</td>\n",
       "    </tr>\n",
       "    <tr>\n",
       "      <th>2012-01-05</th>\n",
       "      <td>0.011102</td>\n",
       "      <td>0.000563</td>\n",
       "      <td>-0.000539</td>\n",
       "      <td>-0.013871</td>\n",
       "      <td>-0.004743</td>\n",
       "      <td>-0.004735</td>\n",
       "      <td>0.010219</td>\n",
       "    </tr>\n",
       "    <tr>\n",
       "      <th>2012-01-06</th>\n",
       "      <td>0.010453</td>\n",
       "      <td>0.028152</td>\n",
       "      <td>0.005391</td>\n",
       "      <td>-0.013642</td>\n",
       "      <td>-0.011481</td>\n",
       "      <td>-0.006343</td>\n",
       "      <td>0.015534</td>\n",
       "    </tr>\n",
       "    <tr>\n",
       "      <th>2012-01-09</th>\n",
       "      <td>-0.001586</td>\n",
       "      <td>-0.022178</td>\n",
       "      <td>0.011260</td>\n",
       "      <td>-0.042399</td>\n",
       "      <td>-0.005204</td>\n",
       "      <td>0.000000</td>\n",
       "      <td>-0.013162</td>\n",
       "    </tr>\n",
       "    <tr>\n",
       "      <th>2012-01-10</th>\n",
       "      <td>0.003580</td>\n",
       "      <td>0.004368</td>\n",
       "      <td>-0.007423</td>\n",
       "      <td>0.001092</td>\n",
       "      <td>-0.001543</td>\n",
       "      <td>0.005948</td>\n",
       "      <td>0.003604</td>\n",
       "    </tr>\n",
       "    <tr>\n",
       "      <th>...</th>\n",
       "      <td>...</td>\n",
       "      <td>...</td>\n",
       "      <td>...</td>\n",
       "      <td>...</td>\n",
       "      <td>...</td>\n",
       "      <td>...</td>\n",
       "      <td>...</td>\n",
       "    </tr>\n",
       "    <tr>\n",
       "      <th>2022-12-23</th>\n",
       "      <td>-0.002798</td>\n",
       "      <td>0.017425</td>\n",
       "      <td>0.000245</td>\n",
       "      <td>0.017562</td>\n",
       "      <td>0.005466</td>\n",
       "      <td>0.007578</td>\n",
       "      <td>0.002267</td>\n",
       "    </tr>\n",
       "    <tr>\n",
       "      <th>2022-12-27</th>\n",
       "      <td>-0.013878</td>\n",
       "      <td>-0.025924</td>\n",
       "      <td>0.012838</td>\n",
       "      <td>-0.020933</td>\n",
       "      <td>0.005436</td>\n",
       "      <td>0.006111</td>\n",
       "      <td>-0.007414</td>\n",
       "    </tr>\n",
       "    <tr>\n",
       "      <th>2022-12-28</th>\n",
       "      <td>-0.030685</td>\n",
       "      <td>-0.014692</td>\n",
       "      <td>-0.010502</td>\n",
       "      <td>-0.016718</td>\n",
       "      <td>-0.016851</td>\n",
       "      <td>-0.009967</td>\n",
       "      <td>-0.010255</td>\n",
       "    </tr>\n",
       "    <tr>\n",
       "      <th>2022-12-29</th>\n",
       "      <td>0.028324</td>\n",
       "      <td>0.028844</td>\n",
       "      <td>0.021715</td>\n",
       "      <td>0.028799</td>\n",
       "      <td>0.007427</td>\n",
       "      <td>0.005978</td>\n",
       "      <td>0.027630</td>\n",
       "    </tr>\n",
       "    <tr>\n",
       "      <th>2022-12-30</th>\n",
       "      <td>0.002469</td>\n",
       "      <td>-0.002138</td>\n",
       "      <td>0.000478</td>\n",
       "      <td>-0.002473</td>\n",
       "      <td>-0.001205</td>\n",
       "      <td>-0.005317</td>\n",
       "      <td>-0.004937</td>\n",
       "    </tr>\n",
       "  </tbody>\n",
       "</table>\n",
       "<p>2767 rows × 7 columns</p>\n",
       "</div>"
      ],
      "text/plain": [
       "                AAPL      AMZN        GE      GOOG       IBM        KO  \\\n",
       "Date                                                                     \n",
       "2012-01-04  0.005374 -0.008490  0.010893  0.004313 -0.004079 -0.006273   \n",
       "2012-01-05  0.011102  0.000563 -0.000539 -0.013871 -0.004743 -0.004735   \n",
       "2012-01-06  0.010453  0.028152  0.005391 -0.013642 -0.011481 -0.006343   \n",
       "2012-01-09 -0.001586 -0.022178  0.011260 -0.042399 -0.005204  0.000000   \n",
       "2012-01-10  0.003580  0.004368 -0.007423  0.001092 -0.001543  0.005948   \n",
       "...              ...       ...       ...       ...       ...       ...   \n",
       "2022-12-23 -0.002798  0.017425  0.000245  0.017562  0.005466  0.007578   \n",
       "2022-12-27 -0.013878 -0.025924  0.012838 -0.020933  0.005436  0.006111   \n",
       "2022-12-28 -0.030685 -0.014692 -0.010502 -0.016718 -0.016851 -0.009967   \n",
       "2022-12-29  0.028324  0.028844  0.021715  0.028799  0.007427  0.005978   \n",
       "2022-12-30  0.002469 -0.002138  0.000478 -0.002473 -0.001205 -0.005317   \n",
       "\n",
       "                MSFT  \n",
       "Date                  \n",
       "2012-01-04  0.023534  \n",
       "2012-01-05  0.010219  \n",
       "2012-01-06  0.015534  \n",
       "2012-01-09 -0.013162  \n",
       "2012-01-10  0.003604  \n",
       "...              ...  \n",
       "2022-12-23  0.002267  \n",
       "2022-12-27 -0.007414  \n",
       "2022-12-28 -0.010255  \n",
       "2022-12-29  0.027630  \n",
       "2022-12-30 -0.004937  \n",
       "\n",
       "[2767 rows x 7 columns]"
      ]
     },
     "execution_count": 9,
     "metadata": {},
     "output_type": "execute_result"
    }
   ],
   "source": [
    "rets = ql.compute_returns(assets, mpor=1, ascending=True, dropna=True)\n",
    "rets"
   ]
  },
  {
   "cell_type": "markdown",
   "metadata": {
    "jp-MarkdownHeadingCollapsed": true,
    "tags": []
   },
   "source": [
    "### Log-returns"
   ]
  },
  {
   "cell_type": "code",
   "execution_count": 16,
   "metadata": {},
   "outputs": [
    {
     "data": {
      "text/html": [
       "<div>\n",
       "<style scoped>\n",
       "    .dataframe tbody tr th:only-of-type {\n",
       "        vertical-align: middle;\n",
       "    }\n",
       "\n",
       "    .dataframe tbody tr th {\n",
       "        vertical-align: top;\n",
       "    }\n",
       "\n",
       "    .dataframe thead th {\n",
       "        text-align: right;\n",
       "    }\n",
       "</style>\n",
       "<table border=\"1\" class=\"dataframe\">\n",
       "  <thead>\n",
       "    <tr style=\"text-align: right;\">\n",
       "      <th></th>\n",
       "      <th>AAPL</th>\n",
       "      <th>AMZN</th>\n",
       "      <th>GE</th>\n",
       "      <th>GOOG</th>\n",
       "      <th>IBM</th>\n",
       "      <th>KO</th>\n",
       "      <th>MSFT</th>\n",
       "    </tr>\n",
       "    <tr>\n",
       "      <th>Date</th>\n",
       "      <th></th>\n",
       "      <th></th>\n",
       "      <th></th>\n",
       "      <th></th>\n",
       "      <th></th>\n",
       "      <th></th>\n",
       "      <th></th>\n",
       "    </tr>\n",
       "  </thead>\n",
       "  <tbody>\n",
       "    <tr>\n",
       "      <th>2012-01-04</th>\n",
       "      <td>0.005360</td>\n",
       "      <td>-0.008526</td>\n",
       "      <td>0.010834</td>\n",
       "      <td>0.004304</td>\n",
       "      <td>-0.004087</td>\n",
       "      <td>-0.006293</td>\n",
       "      <td>0.023261</td>\n",
       "    </tr>\n",
       "    <tr>\n",
       "      <th>2012-01-05</th>\n",
       "      <td>0.011041</td>\n",
       "      <td>0.000563</td>\n",
       "      <td>-0.000539</td>\n",
       "      <td>-0.013969</td>\n",
       "      <td>-0.004755</td>\n",
       "      <td>-0.004746</td>\n",
       "      <td>0.010167</td>\n",
       "    </tr>\n",
       "    <tr>\n",
       "      <th>2012-01-06</th>\n",
       "      <td>0.010400</td>\n",
       "      <td>0.027763</td>\n",
       "      <td>0.005376</td>\n",
       "      <td>-0.013735</td>\n",
       "      <td>-0.011547</td>\n",
       "      <td>-0.006363</td>\n",
       "      <td>0.015415</td>\n",
       "    </tr>\n",
       "    <tr>\n",
       "      <th>2012-01-09</th>\n",
       "      <td>-0.001588</td>\n",
       "      <td>-0.022428</td>\n",
       "      <td>0.011197</td>\n",
       "      <td>-0.043324</td>\n",
       "      <td>-0.005218</td>\n",
       "      <td>0.000000</td>\n",
       "      <td>-0.013250</td>\n",
       "    </tr>\n",
       "    <tr>\n",
       "      <th>2012-01-10</th>\n",
       "      <td>0.003574</td>\n",
       "      <td>0.004359</td>\n",
       "      <td>-0.007451</td>\n",
       "      <td>0.001092</td>\n",
       "      <td>-0.001544</td>\n",
       "      <td>0.005931</td>\n",
       "      <td>0.003598</td>\n",
       "    </tr>\n",
       "    <tr>\n",
       "      <th>...</th>\n",
       "      <td>...</td>\n",
       "      <td>...</td>\n",
       "      <td>...</td>\n",
       "      <td>...</td>\n",
       "      <td>...</td>\n",
       "      <td>...</td>\n",
       "      <td>...</td>\n",
       "    </tr>\n",
       "    <tr>\n",
       "      <th>2022-12-23</th>\n",
       "      <td>-0.002802</td>\n",
       "      <td>0.017274</td>\n",
       "      <td>0.000245</td>\n",
       "      <td>0.017409</td>\n",
       "      <td>0.005451</td>\n",
       "      <td>0.007550</td>\n",
       "      <td>0.002265</td>\n",
       "    </tr>\n",
       "    <tr>\n",
       "      <th>2022-12-27</th>\n",
       "      <td>-0.013976</td>\n",
       "      <td>-0.026266</td>\n",
       "      <td>0.012756</td>\n",
       "      <td>-0.021155</td>\n",
       "      <td>0.005421</td>\n",
       "      <td>0.006092</td>\n",
       "      <td>-0.007442</td>\n",
       "    </tr>\n",
       "    <tr>\n",
       "      <th>2022-12-28</th>\n",
       "      <td>-0.031166</td>\n",
       "      <td>-0.014801</td>\n",
       "      <td>-0.010558</td>\n",
       "      <td>-0.016859</td>\n",
       "      <td>-0.016995</td>\n",
       "      <td>-0.010017</td>\n",
       "      <td>-0.010308</td>\n",
       "    </tr>\n",
       "    <tr>\n",
       "      <th>2022-12-29</th>\n",
       "      <td>0.027931</td>\n",
       "      <td>0.028436</td>\n",
       "      <td>0.021483</td>\n",
       "      <td>0.028393</td>\n",
       "      <td>0.007400</td>\n",
       "      <td>0.005960</td>\n",
       "      <td>0.027255</td>\n",
       "    </tr>\n",
       "    <tr>\n",
       "      <th>2022-12-30</th>\n",
       "      <td>0.002466</td>\n",
       "      <td>-0.002141</td>\n",
       "      <td>0.000478</td>\n",
       "      <td>-0.002476</td>\n",
       "      <td>-0.001206</td>\n",
       "      <td>-0.005331</td>\n",
       "      <td>-0.004950</td>\n",
       "    </tr>\n",
       "  </tbody>\n",
       "</table>\n",
       "<p>2767 rows × 7 columns</p>\n",
       "</div>"
      ],
      "text/plain": [
       "                AAPL      AMZN        GE      GOOG       IBM        KO  \\\n",
       "Date                                                                     \n",
       "2012-01-04  0.005360 -0.008526  0.010834  0.004304 -0.004087 -0.006293   \n",
       "2012-01-05  0.011041  0.000563 -0.000539 -0.013969 -0.004755 -0.004746   \n",
       "2012-01-06  0.010400  0.027763  0.005376 -0.013735 -0.011547 -0.006363   \n",
       "2012-01-09 -0.001588 -0.022428  0.011197 -0.043324 -0.005218  0.000000   \n",
       "2012-01-10  0.003574  0.004359 -0.007451  0.001092 -0.001544  0.005931   \n",
       "...              ...       ...       ...       ...       ...       ...   \n",
       "2022-12-23 -0.002802  0.017274  0.000245  0.017409  0.005451  0.007550   \n",
       "2022-12-27 -0.013976 -0.026266  0.012756 -0.021155  0.005421  0.006092   \n",
       "2022-12-28 -0.031166 -0.014801 -0.010558 -0.016859 -0.016995 -0.010017   \n",
       "2022-12-29  0.027931  0.028436  0.021483  0.028393  0.007400  0.005960   \n",
       "2022-12-30  0.002466 -0.002141  0.000478 -0.002476 -0.001206 -0.005331   \n",
       "\n",
       "                MSFT  \n",
       "Date                  \n",
       "2012-01-04  0.023261  \n",
       "2012-01-05  0.010167  \n",
       "2012-01-06  0.015415  \n",
       "2012-01-09 -0.013250  \n",
       "2012-01-10  0.003598  \n",
       "...              ...  \n",
       "2022-12-23  0.002265  \n",
       "2022-12-27 -0.007442  \n",
       "2022-12-28 -0.010308  \n",
       "2022-12-29  0.027255  \n",
       "2022-12-30 -0.004950  \n",
       "\n",
       "[2767 rows x 7 columns]"
      ]
     },
     "execution_count": 16,
     "metadata": {},
     "output_type": "execute_result"
    }
   ],
   "source": [
    "lrets = ql.compute_logreturns(assets, mpor=1, ascending=True, dropna=True)\n",
    "lrets"
   ]
  },
  {
   "cell_type": "markdown",
   "metadata": {
    "jp-MarkdownHeadingCollapsed": true,
    "tags": []
   },
   "source": [
    "### Single compounding of returns"
   ]
  },
  {
   "cell_type": "code",
   "execution_count": 21,
   "metadata": {},
   "outputs": [
    {
     "data": {
      "text/plain": [
       "AAPL     9.378393\n",
       "AMZN     8.383902\n",
       "GE      -0.241466\n",
       "GOOG     4.353847\n",
       "IBM      0.188601\n",
       "KO       1.554411\n",
       "MSFT    10.171722\n",
       "dtype: float64"
      ]
     },
     "execution_count": 21,
     "metadata": {},
     "output_type": "execute_result"
    }
   ],
   "source": [
    "ql.compound(rets)"
   ]
  },
  {
   "cell_type": "markdown",
   "metadata": {},
   "source": [
    "That is, for example, all together the overall returns of AAPL have been about 938%. Or, for GE, it has been about -24%.\n",
    "\n",
    "This is equivalent to compute the return between the last and the first corresponding price series:"
   ]
  },
  {
   "cell_type": "code",
   "execution_count": 36,
   "metadata": {},
   "outputs": [
    {
     "name": "stdout",
     "output_type": "stream",
     "text": [
      "AAPL overall compounded return:\t938%\n",
      "GE overall compounded return:\t-24%\n"
     ]
    }
   ],
   "source": [
    "tt = \"AAPL\"\n",
    "rr = assets.loc[ assets[tt].index[-1] , tt] / assets.loc[ assets[tt].index[0] , tt] - 1\n",
    "print(f\"{tt} overall compounded return:\\t{rr*100:.0f}%\")\n",
    "\n",
    "tt = \"GE\"\n",
    "rr = assets.loc[ assets[tt].index[-1] , tt] / assets.loc[ assets[tt].index[0] , tt] - 1\n",
    "print(f\"{tt} overall compounded return:\\t{rr*100:.0f}%\")"
   ]
  },
  {
   "cell_type": "markdown",
   "metadata": {
    "jp-MarkdownHeadingCollapsed": true,
    "tags": []
   },
   "source": [
    "### Compounding returns"
   ]
  },
  {
   "cell_type": "markdown",
   "metadata": {},
   "source": [
    "Cumulative compounding returns. To see what an initial (e.g., investment) price/amount would have resulted in using all available returns history."
   ]
  },
  {
   "cell_type": "code",
   "execution_count": 49,
   "metadata": {},
   "outputs": [
    {
     "data": {
      "text/html": [
       "<div>\n",
       "<style scoped>\n",
       "    .dataframe tbody tr th:only-of-type {\n",
       "        vertical-align: middle;\n",
       "    }\n",
       "\n",
       "    .dataframe tbody tr th {\n",
       "        vertical-align: top;\n",
       "    }\n",
       "\n",
       "    .dataframe thead th {\n",
       "        text-align: right;\n",
       "    }\n",
       "</style>\n",
       "<table border=\"1\" class=\"dataframe\">\n",
       "  <thead>\n",
       "    <tr style=\"text-align: right;\">\n",
       "      <th></th>\n",
       "      <th>AAPL</th>\n",
       "      <th>AMZN</th>\n",
       "      <th>GE</th>\n",
       "      <th>GOOG</th>\n",
       "      <th>IBM</th>\n",
       "      <th>KO</th>\n",
       "      <th>MSFT</th>\n",
       "    </tr>\n",
       "    <tr>\n",
       "      <th>Date</th>\n",
       "      <th></th>\n",
       "      <th></th>\n",
       "      <th></th>\n",
       "      <th></th>\n",
       "      <th></th>\n",
       "      <th></th>\n",
       "      <th></th>\n",
       "    </tr>\n",
       "  </thead>\n",
       "  <tbody>\n",
       "    <tr>\n",
       "      <th>2012-01-03</th>\n",
       "      <td>1.000000</td>\n",
       "      <td>1.000000</td>\n",
       "      <td>1.000000</td>\n",
       "      <td>1.000000</td>\n",
       "      <td>1.000000</td>\n",
       "      <td>1.000000</td>\n",
       "      <td>1.000000</td>\n",
       "    </tr>\n",
       "    <tr>\n",
       "      <th>2012-01-04</th>\n",
       "      <td>1.005374</td>\n",
       "      <td>0.991510</td>\n",
       "      <td>1.010894</td>\n",
       "      <td>1.004313</td>\n",
       "      <td>0.995921</td>\n",
       "      <td>0.993727</td>\n",
       "      <td>1.023534</td>\n",
       "    </tr>\n",
       "    <tr>\n",
       "      <th>2012-01-05</th>\n",
       "      <td>1.016536</td>\n",
       "      <td>0.992068</td>\n",
       "      <td>1.010349</td>\n",
       "      <td>0.990382</td>\n",
       "      <td>0.991197</td>\n",
       "      <td>0.989022</td>\n",
       "      <td>1.033993</td>\n",
       "    </tr>\n",
       "    <tr>\n",
       "      <th>2012-01-06</th>\n",
       "      <td>1.027162</td>\n",
       "      <td>1.019997</td>\n",
       "      <td>1.015795</td>\n",
       "      <td>0.976871</td>\n",
       "      <td>0.979817</td>\n",
       "      <td>0.982749</td>\n",
       "      <td>1.050056</td>\n",
       "    </tr>\n",
       "    <tr>\n",
       "      <th>2012-01-09</th>\n",
       "      <td>1.025533</td>\n",
       "      <td>0.997375</td>\n",
       "      <td>1.027233</td>\n",
       "      <td>0.935453</td>\n",
       "      <td>0.974718</td>\n",
       "      <td>0.982749</td>\n",
       "      <td>1.036235</td>\n",
       "    </tr>\n",
       "    <tr>\n",
       "      <th>...</th>\n",
       "      <td>...</td>\n",
       "      <td>...</td>\n",
       "      <td>...</td>\n",
       "      <td>...</td>\n",
       "      <td>...</td>\n",
       "      <td>...</td>\n",
       "      <td>...</td>\n",
       "    </tr>\n",
       "    <tr>\n",
       "      <th>2022-12-23</th>\n",
       "      <td>10.532555</td>\n",
       "      <td>9.523544</td>\n",
       "      <td>0.740428</td>\n",
       "      <td>5.419013</td>\n",
       "      <td>1.195012</td>\n",
       "      <td>2.562844</td>\n",
       "      <td>11.120946</td>\n",
       "    </tr>\n",
       "    <tr>\n",
       "      <th>2022-12-27</th>\n",
       "      <td>10.386380</td>\n",
       "      <td>9.276658</td>\n",
       "      <td>0.749934</td>\n",
       "      <td>5.305576</td>\n",
       "      <td>1.201508</td>\n",
       "      <td>2.578505</td>\n",
       "      <td>11.038494</td>\n",
       "    </tr>\n",
       "    <tr>\n",
       "      <th>2022-12-28</th>\n",
       "      <td>10.067672</td>\n",
       "      <td>9.140368</td>\n",
       "      <td>0.742058</td>\n",
       "      <td>5.216878</td>\n",
       "      <td>1.181261</td>\n",
       "      <td>2.552804</td>\n",
       "      <td>10.925294</td>\n",
       "    </tr>\n",
       "    <tr>\n",
       "      <th>2022-12-29</th>\n",
       "      <td>10.352832</td>\n",
       "      <td>9.404011</td>\n",
       "      <td>0.758172</td>\n",
       "      <td>5.367121</td>\n",
       "      <td>1.190035</td>\n",
       "      <td>2.568064</td>\n",
       "      <td>11.227157</td>\n",
       "    </tr>\n",
       "    <tr>\n",
       "      <th>2022-12-30</th>\n",
       "      <td>10.378392</td>\n",
       "      <td>9.383902</td>\n",
       "      <td>0.758534</td>\n",
       "      <td>5.353847</td>\n",
       "      <td>1.188600</td>\n",
       "      <td>2.554411</td>\n",
       "      <td>11.171723</td>\n",
       "    </tr>\n",
       "  </tbody>\n",
       "</table>\n",
       "<p>2768 rows × 7 columns</p>\n",
       "</div>"
      ],
      "text/plain": [
       "                 AAPL      AMZN        GE      GOOG       IBM        KO  \\\n",
       "Date                                                                      \n",
       "2012-01-03   1.000000  1.000000  1.000000  1.000000  1.000000  1.000000   \n",
       "2012-01-04   1.005374  0.991510  1.010894  1.004313  0.995921  0.993727   \n",
       "2012-01-05   1.016536  0.992068  1.010349  0.990382  0.991197  0.989022   \n",
       "2012-01-06   1.027162  1.019997  1.015795  0.976871  0.979817  0.982749   \n",
       "2012-01-09   1.025533  0.997375  1.027233  0.935453  0.974718  0.982749   \n",
       "...               ...       ...       ...       ...       ...       ...   \n",
       "2022-12-23  10.532555  9.523544  0.740428  5.419013  1.195012  2.562844   \n",
       "2022-12-27  10.386380  9.276658  0.749934  5.305576  1.201508  2.578505   \n",
       "2022-12-28  10.067672  9.140368  0.742058  5.216878  1.181261  2.552804   \n",
       "2022-12-29  10.352832  9.404011  0.758172  5.367121  1.190035  2.568064   \n",
       "2022-12-30  10.378392  9.383902  0.758534  5.353847  1.188600  2.554411   \n",
       "\n",
       "                 MSFT  \n",
       "Date                   \n",
       "2012-01-03   1.000000  \n",
       "2012-01-04   1.023534  \n",
       "2012-01-05   1.033993  \n",
       "2012-01-06   1.050056  \n",
       "2012-01-09   1.036235  \n",
       "...               ...  \n",
       "2022-12-23  11.120946  \n",
       "2022-12-27  11.038494  \n",
       "2022-12-28  10.925294  \n",
       "2022-12-29  11.227157  \n",
       "2022-12-30  11.171723  \n",
       "\n",
       "[2768 rows x 7 columns]"
      ]
     },
     "execution_count": 49,
     "metadata": {},
     "output_type": "execute_result"
    }
   ],
   "source": [
    "# Compute returns leaving the first mpor row of nans\n",
    "rets = ql.compute_returns(assets, mpor=1, ascending=True, dropna=False)\n",
    "\n",
    "ival = 1\n",
    "ql.compound_returns(rets, start=ival).fillna(ival)"
   ]
  },
  {
   "cell_type": "markdown",
   "metadata": {},
   "source": [
    "That is, 1$ invested in AAPL trasnformed into 10.37 after 10 years. \n",
    "This is equivalent to the compounded return of about 938% seen previously\n"
   ]
  },
  {
   "cell_type": "markdown",
   "metadata": {
    "jp-MarkdownHeadingCollapsed": true,
    "tags": []
   },
   "source": [
    "### Annualizing returns"
   ]
  },
  {
   "cell_type": "markdown",
   "metadata": {},
   "source": [
    "Computation of the return-per-year, or **annualized return**.\n",
    "\n",
    "Let $R$ be the series of, e.g., daily returns. The total length series is $n$.\n",
    "Also, let $R_{c}$ be the compounded (total) return of the series (see above **.compound_returns**).\n",
    "Then, the annualized return, $R_{y}$, is calculated as:\n",
    "$$\n",
    "R_{y} = (1 + R_{c})^{p/n} - 1,\n",
    "\\quad\\text{where}\\quad\n",
    "p =\n",
    "\\begin{cases}\n",
    "252  \t& \\text{for daily returns},\\\\\n",
    "52   \t& \\text{for weekly returns},\\\\\n",
    "12  \t& \\text{for monthly returns},\\\\\n",
    "\\text{and so on}\n",
    "\\end{cases}\n",
    "$$\n",
    "The variable $p$ is the **periods-per-year** and denotes the number of **trading** days in a year."
   ]
  },
  {
   "cell_type": "code",
   "execution_count": 9,
   "metadata": {},
   "outputs": [
    {
     "data": {
      "image/png": "[encoded data removed]",
      "text/plain": [
       "<Figure size 1080x288 with 1 Axes>"
      ]
     },
     "metadata": {
      "needs_background": "light"
     },
     "output_type": "display_data"
    }
   ],
   "source": [
    "# Using daily prices/returns, 1d\n",
    "assets = ql.getassets(tickers, startdate=startdate, enddate=enddate, datatype=\"Adj Close\", interval=\"1d\")\n",
    "rets = ql.compute_returns(assets, mpor=1, ascending=True, dropna=True)\n",
    "drs = ql.annualize_returns(rets, ppy=252)\n",
    "\n",
    "# Using weekly prices/returns, 5d\n",
    "assets = ql.getassets(tickers, startdate=startdate, enddate=enddate, datatype=\"Adj Close\", interval=\"5d\")\n",
    "rets = ql.compute_returns(assets, mpor=1, ascending=True, dropna=True)\n",
    "wrs = ql.annualize_returns(rets, ppy=52)\n",
    "\n",
    "# using monthly prices/returns, 1mo\n",
    "assets = ql.getassets(tickers, startdate=startdate, enddate=enddate, datatype=\"Adj Close\", interval=\"1mo\")\n",
    "rets = ql.compute_returns(assets, mpor=1, ascending=True, dropna=True)\n",
    "mrs = ql.annualize_returns(rets, ppy=12)\n",
    "\n",
    "# Annualized volatilities\n",
    "rrs = pd.DataFrame({\"Using daily rets\"  : drs,\n",
    "                    \"Using weekly rets\" : wrs,\n",
    "                    \"Using monthly rets\": mrs})\n",
    "\n",
    "# Plot\n",
    "fig, ax = plt.subplots(1,1,figsize=(15,4))\n",
    "(rrs* 100).plot.bar(ax=ax,grid=True)\n",
    "fig.suptitle(\"Comparison of annualized returns\", fontsize=15)\n",
    "ax.set_xlabel(\"\",fontsize=18)\n",
    "ax.set_ylabel(\"Percent (%)\",fontsize=15)\n",
    "ax.legend(fontsize=12)\n",
    "plt.show()"
   ]
  },
  {
   "cell_type": "markdown",
   "metadata": {
    "jp-MarkdownHeadingCollapsed": true,
    "tags": []
   },
   "source": [
    "### Semi-Volatility"
   ]
  },
  {
   "cell_type": "markdown",
   "metadata": {},
   "source": [
    "Computation of the semi-volatility, i.e., the volatility of negative returns"
   ]
  },
  {
   "cell_type": "code",
   "execution_count": 10,
   "metadata": {},
   "outputs": [],
   "source": [
    "assets = ql.getassets(tickers, startdate=startdate, enddate=enddate, datatype=\"Adj Close\", interval=\"1d\")\n",
    "rets = ql.compute_returns(assets, mpor=1, ascending=True, dropna=True)"
   ]
  },
  {
   "cell_type": "code",
   "execution_count": 11,
   "metadata": {},
   "outputs": [
    {
     "data": {
      "text/plain": [
       "AAPL    0.018335\n",
       "AMZN    0.020491\n",
       "GE      0.020440\n",
       "GOOG    0.016851\n",
       "IBM     0.014436\n",
       "KO      0.011169\n",
       "MSFT    0.016714\n",
       "dtype: float64"
      ]
     },
     "execution_count": 11,
     "metadata": {},
     "output_type": "execute_result"
    }
   ],
   "source": [
    "# Volatility \n",
    "rets.std()"
   ]
  },
  {
   "cell_type": "code",
   "execution_count": 132,
   "metadata": {},
   "outputs": [
    {
     "data": {
      "text/plain": [
       "AAPL    0.013329\n",
       "AMZN    0.014430\n",
       "GE      0.014990\n",
       "GOOG    0.012151\n",
       "IBM     0.011583\n",
       "KO      0.008977\n",
       "MSFT    0.012224\n",
       "dtype: float64"
      ]
     },
     "execution_count": 132,
     "metadata": {},
     "output_type": "execute_result"
    }
   ],
   "source": [
    "# (Negative) Semi-Volatility \n",
    "ql.semistd(rets)"
   ]
  },
  {
   "cell_type": "markdown",
   "metadata": {},
   "source": [
    "If *negative=False* is passed, then it computes the semi-volatility of positive returns"
   ]
  },
  {
   "cell_type": "markdown",
   "metadata": {
    "jp-MarkdownHeadingCollapsed": true,
    "tags": []
   },
   "source": [
    "### Annualizing volatility"
   ]
  },
  {
   "cell_type": "markdown",
   "metadata": {},
   "source": [
    "Similarly to the annualized returns, the **annualized volatility** can be computed too (required if one need to compare volatilities of different stocks obtained from different types of returns).\n",
    "\n",
    "The annualized volatility, $\\sigma_y$, is a function of the square root of the time interval used to compute returns:\n",
    "\n",
    "$$\n",
    "\\sigma_{y} := \\sigma_p \\sqrt{p},\n",
    "\\quad\\text{where}\\quad\n",
    "p =\n",
    "\\begin{cases}\n",
    "252  \t& \\text{for daily returns},\\\\\n",
    "52   \t& \\text{for weekly returns},\\\\\n",
    "12  \t& \\text{for monthly returns},\\\\\n",
    "\\text{and so on}\n",
    "\\end{cases}\n",
    "$$\n",
    "\n",
    "Note that this annualization is *justified* only if the returns used to compute the volatility are log-returns. \n",
    "This is because it is typically assumed that stock prices are log-normally distributed, which, in turns, \n",
    "implies that log-returns are normally distributed with mean $(\\mu-\\sigma^2/2)dt$ and variance $\\sigma^2dt$.\n",
    "Hence, the volatility is given by $\\sigma\\sqrt{dt}$ and one can approximate the volatility for larger period of time by $\\sigma\\sqrt{dt}$."
   ]
  },
  {
   "cell_type": "code",
   "execution_count": 133,
   "metadata": {},
   "outputs": [
    {
     "data": {
      "image/png": "[encoded data removed]",
      "text/plain": [
       "<Figure size 1080x288 with 1 Axes>"
      ]
     },
     "metadata": {
      "needs_background": "light"
     },
     "output_type": "display_data"
    }
   ],
   "source": [
    "# Using daily prices/returns, 1d\n",
    "assets = ql.getassets(tickers, startdate=startdate, enddate=enddate, datatype=\"Adj Close\", interval=\"1d\")\n",
    "rets = ql.compute_returns(assets, mpor=1, ascending=True, dropna=True)\n",
    "dvol = ql.annualize_std(rets, ppy=252)\n",
    "\n",
    "# Using weekly prices/returns, 5d\n",
    "assets = ql.getassets(tickers, startdate=startdate, enddate=enddate, datatype=\"Adj Close\", interval=\"5d\")\n",
    "rets = ql.compute_returns(assets, mpor=1, ascending=True, dropna=True)\n",
    "wvol = ql.annualize_std(rets, ppy=52)\n",
    "\n",
    "# using monthly prices/returns, 1mo\n",
    "assets = ql.getassets(tickers, startdate=startdate, enddate=enddate, datatype=\"Adj Close\", interval=\"1mo\")\n",
    "rets = ql.compute_returns(assets, mpor=1, ascending=True, dropna=True)\n",
    "mvol = ql.annualize_std(rets, ppy=12)\n",
    "\n",
    "# Annualized volatilities\n",
    "vols = pd.DataFrame({\"Using daily rets\"  : dvol,\n",
    "                     \"Using weekly rets\" : wvol,\n",
    "                     \"Using monthly rets\": mvol})\n",
    "\n",
    "# Plot\n",
    "fig, ax = plt.subplots(1,1,figsize=(15,4))\n",
    "(vols* 100).plot.bar(ax=ax,grid=True)\n",
    "fig.suptitle(\"Comparison of annualized volatilities\", fontsize=15)\n",
    "ax.set_xlabel(\"\",fontsize=18)\n",
    "ax.set_ylabel(\"Percent (%)\",fontsize=15)\n",
    "ax.legend(fontsize=12)\n",
    "plt.show()"
   ]
  },
  {
   "cell_type": "markdown",
   "metadata": {
    "jp-MarkdownHeadingCollapsed": true,
    "tags": []
   },
   "source": [
    "### Drawndown"
   ]
  },
  {
   "cell_type": "code",
   "execution_count": 135,
   "metadata": {},
   "outputs": [],
   "source": [
    "assets = ql.getassets(tickers, startdate=startdate, enddate=enddate, datatype=\"Adj Close\", interval=\"1d\")\n",
    "rets = ql.compute_returns(assets, mpor=1, ascending=True, dropna=True)"
   ]
  },
  {
   "cell_type": "markdown",
   "metadata": {},
   "source": [
    "Computing the absolute (*percent=False*) and relative (*percent=True*) **drawdown** series (*maxd=False*) "
   ]
  },
  {
   "cell_type": "code",
   "execution_count": 162,
   "metadata": {},
   "outputs": [],
   "source": [
    "maxd = False\n",
    "dd = ql.drawdown(assets, rets=False, maxd=maxd, percent=False)  # Absolute drawdowns\n",
    "dd_p = ql.drawdown(assets, rets=False, maxd=maxd, percent=True) # Relative drawdown"
   ]
  },
  {
   "cell_type": "code",
   "execution_count": 164,
   "metadata": {},
   "outputs": [
    {
     "data": {
      "image/png": "[encoded data removed]",
      "text/plain": [
       "<Figure size 1584x288 with 2 Axes>"
      ]
     },
     "metadata": {
      "needs_background": "light"
     },
     "output_type": "display_data"
    }
   ],
   "source": [
    "# Plot\n",
    "fig, ax = plt.subplots(1,2,figsize=(22,4))\n",
    "ax = ax.flatten()\n",
    "fig.suptitle(\"Drawdowns\", fontsize=15)\n",
    "\n",
    "n = 0\n",
    "dd.plot(ax=ax[n],grid=True)\n",
    "ax[n].set_xlabel(\"\",fontsize=18)\n",
    "ax[n].set_ylabel(\"Dollars ($)\",fontsize=12)\n",
    "ax[n].legend(fontsize=10)\n",
    "\n",
    "n = 1\n",
    "(dd_p * 100).plot(ax=ax[n],grid=True)\n",
    "ax[n].set_xlabel(\"\",fontsize=18)\n",
    "ax[n].set_ylabel(\"Percent (%)\",fontsize=12)\n",
    "ax[n].legend(fontsize=10)\n",
    "plt.show()"
   ]
  },
  {
   "cell_type": "markdown",
   "metadata": {},
   "source": [
    "Computing the absolute (*percent=False*) and relative (*percent=True*) **maximum drawdowns** (*maxd=True*)"
   ]
  },
  {
   "cell_type": "code",
   "execution_count": 169,
   "metadata": {},
   "outputs": [],
   "source": [
    "maxd = True\n",
    "mdd = ql.drawdown(assets, rets=False, maxd=maxd, percent=False)  # Maximum absolute drawdowns\n",
    "mdd_p = ql.drawdown(assets, rets=False, maxd=maxd, percent=True) # Maximum relative drawdown"
   ]
  },
  {
   "cell_type": "code",
   "execution_count": 170,
   "metadata": {},
   "outputs": [
    {
     "data": {
      "text/plain": [
       "AAPL    -54.835999\n",
       "AMZN   -104.750496\n",
       "GE     -146.307060\n",
       "GOOG    -67.219002\n",
       "IBM     -60.553032\n",
       "KO      -20.248386\n",
       "MSFT   -125.961411\n",
       "dtype: float64"
      ]
     },
     "execution_count": 170,
     "metadata": {},
     "output_type": "execute_result"
    }
   ],
   "source": [
    "mdd"
   ]
  },
  {
   "cell_type": "code",
   "execution_count": 171,
   "metadata": {},
   "outputs": [
    {
     "data": {
      "text/plain": [
       "AAPL   -0.437972\n",
       "AMZN   -0.561453\n",
       "GE     -0.811914\n",
       "GOOG   -0.446018\n",
       "IBM    -0.437200\n",
       "KO     -0.369875\n",
       "MSFT   -0.371485\n",
       "dtype: float64"
      ]
     },
     "execution_count": 171,
     "metadata": {},
     "output_type": "execute_result"
    }
   ],
   "source": [
    "mdd_p"
   ]
  },
  {
   "cell_type": "markdown",
   "metadata": {},
   "source": [
    "Note that drawdowns can be computed also if the input data are not prices but returns (*rets=True*). In this case *percent* returns are returns by default."
   ]
  },
  {
   "cell_type": "code",
   "execution_count": 193,
   "metadata": {},
   "outputs": [
    {
     "data": {
      "text/plain": [
       "AAPL   -0.437972\n",
       "AMZN   -0.561453\n",
       "GE     -0.811914\n",
       "GOOG   -0.446018\n",
       "IBM    -0.437200\n",
       "KO     -0.369875\n",
       "MSFT   -0.371485\n",
       "dtype: float64"
      ]
     },
     "execution_count": 193,
     "metadata": {},
     "output_type": "execute_result"
    }
   ],
   "source": [
    "ql.drawdown(rets, rets=True, maxd=True, percent=True) # the same for percent = False"
   ]
  },
  {
   "cell_type": "markdown",
   "metadata": {},
   "source": [
    "The opposite of a drawdown is the (not so interesting) **drawup**"
   ]
  },
  {
   "cell_type": "code",
   "execution_count": 194,
   "metadata": {},
   "outputs": [],
   "source": [
    "maxd = False\n",
    "du = ql.drawup(assets, maxd=maxd, percent=False)  # Absolute drawup\n",
    "du_p = ql.drawup(assets, maxd=maxd, percent=True) # Relative drawnup"
   ]
  },
  {
   "cell_type": "code",
   "execution_count": 195,
   "metadata": {},
   "outputs": [
    {
     "data": {
      "image/png": "[encoded data removed]",
      "text/plain": [
       "<Figure size 1584x288 with 2 Axes>"
      ]
     },
     "metadata": {
      "needs_background": "light"
     },
     "output_type": "display_data"
    }
   ],
   "source": [
    "# Plot\n",
    "fig, ax = plt.subplots(1,2,figsize=(22,4))\n",
    "ax = ax.flatten()\n",
    "fig.suptitle(\"Drawdowns\", fontsize=15)\n",
    "\n",
    "n = 0\n",
    "du.plot(ax=ax[n],grid=True)\n",
    "ax[n].set_xlabel(\"\",fontsize=18)\n",
    "ax[n].set_ylabel(\"Dollars ($)\",fontsize=12)\n",
    "ax[n].legend(fontsize=10)\n",
    "\n",
    "n = 1\n",
    "(du_p * 100).plot(ax=ax[n],grid=True)\n",
    "ax[n].set_xlabel(\"\",fontsize=18)\n",
    "ax[n].set_ylabel(\"Percent (%)\",fontsize=12)\n",
    "ax[n].legend(fontsize=10)\n",
    "plt.show()"
   ]
  },
  {
   "cell_type": "markdown",
   "metadata": {
    "tags": []
   },
   "source": [
    "### Value-at-Risk estimators"
   ]
  },
  {
   "cell_type": "markdown",
   "metadata": {},
   "source": [
    "Methods returning the Value-at-Risk-based estimators for a fixed CL **Confidence Level**. \n",
    "\n",
    "By default, the computed $VaR_{CL}$ is defined as the (1-CL)% quantile of an input distribution of returns (left tail). Quantile of the right tail are computed by passing *left=False*."
   ]
  },
  {
   "cell_type": "code",
   "execution_count": 12,
   "metadata": {},
   "outputs": [],
   "source": [
    "rets = ql.compute_returns(assets, mpor=1, ascending=True, dropna=True)"
   ]
  },
  {
   "cell_type": "code",
   "execution_count": 13,
   "metadata": {},
   "outputs": [],
   "source": [
    "# Confidence level\n",
    "CL = 99/100"
   ]
  },
  {
   "cell_type": "markdown",
   "metadata": {},
   "source": [
    "#### Value-at-Risk\n",
    "\n",
    "Simple (1-CL)% VaR figure corresponding to CL.\n",
    "It uses the *pd.quantile* method, hence interpolation between scenarios will be used by default."
   ]
  },
  {
   "cell_type": "code",
   "execution_count": 14,
   "metadata": {},
   "outputs": [
    {
     "data": {
      "text/plain": [
       "AAPL   -0.048387\n",
       "AMZN   -0.056431\n",
       "GE     -0.059087\n",
       "GOOG   -0.047631\n",
       "IBM    -0.043399\n",
       "KO     -0.031608\n",
       "MSFT   -0.042652\n",
       "dtype: float64"
      ]
     },
     "execution_count": 14,
     "metadata": {},
     "output_type": "execute_result"
    }
   ],
   "source": [
    "# Left tail\n",
    "ql.var(rets, CL=CL)"
   ]
  },
  {
   "cell_type": "code",
   "execution_count": 15,
   "metadata": {},
   "outputs": [
    {
     "data": {
      "text/plain": [
       "AAPL    0.050662\n",
       "AMZN    0.057416\n",
       "GE      0.061956\n",
       "GOOG    0.044122\n",
       "IBM     0.037885\n",
       "KO      0.029773\n",
       "MSFT    0.047053\n",
       "dtype: float64"
      ]
     },
     "execution_count": 15,
     "metadata": {},
     "output_type": "execute_result"
    }
   ],
   "source": [
    "# Right tail\n",
    "ql.var(rets, CL=CL, left=False)"
   ]
  },
  {
   "cell_type": "markdown",
   "metadata": {},
   "source": [
    "#### Value-at-Risk (no interpolation)"
   ]
  },
  {
   "cell_type": "markdown",
   "metadata": {},
   "source": [
    "Simple (1-CL)% VaR figure corresponding to CL without interpolation. That is, for series of total $n$ returns, it computes\n",
    "$$\n",
    "s := \\text{round}(n \\cdot (1 - CL))\n",
    "$$\n",
    "and result is rounded to zero decimal places. Hence, returns the return corresponding to the $s$-th scenario \n",
    "(of the sorted series). For $n$, there will be barely difference with previous *.var* method."
   ]
  },
  {
   "cell_type": "code",
   "execution_count": 17,
   "metadata": {},
   "outputs": [
    {
     "data": {
      "text/plain": [
       "AAPL   -0.049119\n",
       "AMZN   -0.056840\n",
       "GE     -0.059480\n",
       "GOOG   -0.047786\n",
       "IBM    -0.044075\n",
       "KO     -0.031676\n",
       "MSFT   -0.043115\n",
       "dtype: float64"
      ]
     },
     "execution_count": 17,
     "metadata": {},
     "output_type": "execute_result"
    }
   ],
   "source": [
    "ql.VaR(rets, CL=CL)"
   ]
  },
  {
   "cell_type": "markdown",
   "metadata": {},
   "source": [
    "#### Value-at-Risk under Normal distribution\n",
    "\n",
    "Returns the VaR figure corresponding to the input Confidence Level by assuming normality of \n",
    "the return series.\n",
    "\n",
    "Let $\\mu$ and $\\sigma$ be the mean and the volatility of the returns $R$ \n",
    "and assume that $R\\sim N(\\mu,\\sigma)$. \n",
    "If $X\\sim N(0,1)$, then $R = \\mu + X \\sigma$.\n",
    "In this way, to compute the (1-CL)-quantile of $R$, it is suffices to compute \n",
    "the (1-CL)-quantile of the stardard normal distribution. \n",
    "\n",
    "By definition, the (1-CL)-quantile is the number $z_{CL}$ such that \n",
    "$\\mathbb{P}(R \\leq z_{CL}) = 1-CL$.\n",
    "Hence: \n",
    "\n",
    "$$\n",
    "1-CL \n",
    "= \\mathbb{P}(R \\leq z_{CL}) \n",
    "= \\mathbb{P}(\\mu+ X\\sigma \\leq z_{CL}) \n",
    "= \\mathbb{P}\\left(X \\leq \\frac{z_{CL}-\\mu}{\\sigma}\\right) \n",
    "= \\Phi\\left( \\frac{z_{CL}-\\mu}{\\sigma} \\right)\n",
    "\\qquad\\Longrightarrow\\qquad\n",
    "z_{CL} = \\mu + \\Phi^{-1}(1-{CL})\\sigma \n",
    "$$\n",
    "where $\\Phi^{-1}(1-{CL})$ is the (1-CL)-quantile of the standard normal distribution."
   ]
  },
  {
   "cell_type": "code",
   "execution_count": 16,
   "metadata": {},
   "outputs": [
    {
     "data": {
      "text/plain": [
       "AAPL   -0.041640\n",
       "AMZN   -0.046651\n",
       "GE     -0.047442\n",
       "GOOG   -0.038453\n",
       "IBM    -0.033415\n",
       "KO     -0.025581\n",
       "MSFT   -0.037870\n",
       "dtype: float64"
      ]
     },
     "execution_count": 16,
     "metadata": {},
     "output_type": "execute_result"
    }
   ],
   "source": [
    "ql.var_normal(rets, CL=CL)"
   ]
  },
  {
   "cell_type": "markdown",
   "metadata": {},
   "source": [
    "#### Value-at-Risk with Cornish-Fisher method\n",
    "\n",
    "This is a modifed version of the parametric normal method for quantile computation (semi-parametric method).\n",
    "The method relates quantilies of non-normal distributions with the quantiles of the standard normal distribution as follows: \n",
    "$$\n",
    "\\tilde{z}_{CL} \n",
    "= z_{CL} + \\frac{1}{6}(z_{CL}^2 - 1)S \n",
    "+ \\frac{1}{24}(z_{CL}^3 - 3 z_{CL})(K-3) \n",
    "- \\frac{1}{36}(2z_{CL}^3 - 5 z_{CL})S^2\n",
    "$$\n",
    "where $\\tilde{z}_{CL}$, $S$, and $K$ denote the (1-CL)-quantile, \n",
    "the skewness, and the kurtosis of the input non-normal distribution \n",
    "(e.g., the input returns series), respectively, \n",
    "and $z_{CL}$ is the (1-CL)-quantile of the standard normal distribution. \n",
    "If the input return distribution is, indeed, normal, \n",
    "then $S=0$ and $K=3$ and so $\\tilde{z}_{CL}$ would be equal to $z_{CL}$.\n",
    "\n",
    "Then, the comprauted VaR in this case will be equal to $\\mu + \\tilde{z}_{CL}\\sigma$."
   ]
  },
  {
   "cell_type": "code",
   "execution_count": 18,
   "metadata": {},
   "outputs": [
    {
     "data": {
      "text/plain": [
       "AAPL   -0.066104\n",
       "AMZN   -0.075270\n",
       "GE     -0.082082\n",
       "GOOG   -0.066826\n",
       "IBM    -0.072159\n",
       "KO     -0.054817\n",
       "MSFT   -0.071164\n",
       "dtype: float64"
      ]
     },
     "execution_count": 18,
     "metadata": {},
     "output_type": "execute_result"
    }
   ],
   "source": [
    "ql.var_normal(rets, CL=CL, cf=True)"
   ]
  },
  {
   "cell_type": "markdown",
   "metadata": {},
   "source": [
    "#### Expected Shortfall"
   ]
  },
  {
   "cell_type": "markdown",
   "metadata": {},
   "source": [
    "Returns the (1-CL)% Expected Shortfall figure corresponding to the input Confidence Level.\n",
    "This is defined as the average of distribution returns worst than the (1-CL)% VaR."
   ]
  },
  {
   "cell_type": "code",
   "execution_count": 111,
   "metadata": {},
   "outputs": [
    {
     "data": {
      "text/plain": [
       "AAPL   -0.068166\n",
       "AMZN   -0.074504\n",
       "GE     -0.081151\n",
       "GOOG   -0.060446\n",
       "IBM    -0.065567\n",
       "KO     -0.049247\n",
       "MSFT   -0.061645\n",
       "dtype: float64"
      ]
     },
     "execution_count": 111,
     "metadata": {},
     "output_type": "execute_result"
    }
   ],
   "source": [
    "ql.es(rets, CL=CL)"
   ]
  },
  {
   "cell_type": "markdown",
   "metadata": {},
   "source": [
    "Comparison"
   ]
  },
  {
   "cell_type": "code",
   "execution_count": 122,
   "metadata": {},
   "outputs": [
    {
     "data": {
      "image/png": "[encoded data removed]",
      "text/plain": [
       "<Figure size 1296x288 with 1 Axes>"
      ]
     },
     "metadata": {},
     "output_type": "display_data"
    }
   ],
   "source": [
    "VaRs = pd.DataFrame({\"VaR\": ql.var(rets, CL=CL),\n",
    "                     \"Normal VaR\": ql.var_normal(rets, CL=CL, cf=False),\n",
    "                     \"Normal CF VaR\": ql.var_normal(rets, CL=CL, cf=True),\n",
    "                     \"ES\": ql.es(rets, CL=CL)})\n",
    "\n",
    "title = f\"Comparison of {CL*100:.0f}% VaR estimators\"\n",
    "(VaRs * 100).plot.bar(figsize=(18,4), grid=True, title=title)\n",
    "plt.ylabel(\"%\", fontsize=15)\n",
    "plt.legend(fontsize=13)\n",
    "plt.show()"
   ]
  },
  {
   "cell_type": "markdown",
   "metadata": {},
   "source": [
    "#### Summary statistics"
   ]
  },
  {
   "cell_type": "code",
   "execution_count": 124,
   "metadata": {},
   "outputs": [
    {
     "data": {
      "text/html": [
       "<div>\n",
       "<style scoped>\n",
       "    .dataframe tbody tr th:only-of-type {\n",
       "        vertical-align: middle;\n",
       "    }\n",
       "\n",
       "    .dataframe tbody tr th {\n",
       "        vertical-align: top;\n",
       "    }\n",
       "\n",
       "    .dataframe thead th {\n",
       "        text-align: right;\n",
       "    }\n",
       "</style>\n",
       "<table border=\"1\" class=\"dataframe\">\n",
       "  <thead>\n",
       "    <tr style=\"text-align: right;\">\n",
       "      <th></th>\n",
       "      <th>AAPL</th>\n",
       "      <th>AMZN</th>\n",
       "      <th>GE</th>\n",
       "      <th>GOOG</th>\n",
       "      <th>IBM</th>\n",
       "      <th>KO</th>\n",
       "      <th>MSFT</th>\n",
       "    </tr>\n",
       "  </thead>\n",
       "  <tbody>\n",
       "    <tr>\n",
       "      <th>(Ann.) Returns</th>\n",
       "      <td>0.237492</td>\n",
       "      <td>0.226191</td>\n",
       "      <td>-0.024856</td>\n",
       "      <td>0.165097</td>\n",
       "      <td>0.015860</td>\n",
       "      <td>0.089164</td>\n",
       "      <td>0.245821</td>\n",
       "    </tr>\n",
       "    <tr>\n",
       "      <th>(Ann.) Std</th>\n",
       "      <td>0.291064</td>\n",
       "      <td>0.325284</td>\n",
       "      <td>0.324477</td>\n",
       "      <td>0.267496</td>\n",
       "      <td>0.229157</td>\n",
       "      <td>0.177299</td>\n",
       "      <td>0.265326</td>\n",
       "    </tr>\n",
       "    <tr>\n",
       "      <th>Skewness</th>\n",
       "      <td>-0.072334</td>\n",
       "      <td>0.412764</td>\n",
       "      <td>0.166840</td>\n",
       "      <td>0.423256</td>\n",
       "      <td>-0.539957</td>\n",
       "      <td>-0.664707</td>\n",
       "      <td>0.034956</td>\n",
       "    </tr>\n",
       "    <tr>\n",
       "      <th>Kurtosis</th>\n",
       "      <td>8.487689</td>\n",
       "      <td>10.548673</td>\n",
       "      <td>10.819122</td>\n",
       "      <td>11.823880</td>\n",
       "      <td>13.250569</td>\n",
       "      <td>12.816791</td>\n",
       "      <td>11.632546</td>\n",
       "    </tr>\n",
       "    <tr>\n",
       "      <th>VaR 0.99</th>\n",
       "      <td>-0.048387</td>\n",
       "      <td>-0.056431</td>\n",
       "      <td>-0.059087</td>\n",
       "      <td>-0.047631</td>\n",
       "      <td>-0.043399</td>\n",
       "      <td>-0.031608</td>\n",
       "      <td>-0.042652</td>\n",
       "    </tr>\n",
       "    <tr>\n",
       "      <th>Normal VaR 0.99</th>\n",
       "      <td>-0.041640</td>\n",
       "      <td>-0.046651</td>\n",
       "      <td>-0.047442</td>\n",
       "      <td>-0.038453</td>\n",
       "      <td>-0.033415</td>\n",
       "      <td>-0.025581</td>\n",
       "      <td>-0.037870</td>\n",
       "    </tr>\n",
       "    <tr>\n",
       "      <th>Normal CF VaR 0.99</th>\n",
       "      <td>-0.066104</td>\n",
       "      <td>-0.075270</td>\n",
       "      <td>-0.082082</td>\n",
       "      <td>-0.066826</td>\n",
       "      <td>-0.072159</td>\n",
       "      <td>-0.054817</td>\n",
       "      <td>-0.071164</td>\n",
       "    </tr>\n",
       "    <tr>\n",
       "      <th>ES 0.99</th>\n",
       "      <td>-0.068166</td>\n",
       "      <td>-0.074504</td>\n",
       "      <td>-0.081151</td>\n",
       "      <td>-0.060446</td>\n",
       "      <td>-0.065567</td>\n",
       "      <td>-0.049247</td>\n",
       "      <td>-0.061645</td>\n",
       "    </tr>\n",
       "    <tr>\n",
       "      <th>Max Drawdown</th>\n",
       "      <td>-0.437972</td>\n",
       "      <td>-0.561453</td>\n",
       "      <td>-0.811914</td>\n",
       "      <td>-0.446018</td>\n",
       "      <td>-0.437200</td>\n",
       "      <td>-0.369875</td>\n",
       "      <td>-0.371485</td>\n",
       "    </tr>\n",
       "    <tr>\n",
       "      <th>Minimum</th>\n",
       "      <td>-0.128647</td>\n",
       "      <td>-0.140494</td>\n",
       "      <td>-0.151592</td>\n",
       "      <td>-0.111008</td>\n",
       "      <td>-0.128507</td>\n",
       "      <td>-0.096725</td>\n",
       "      <td>-0.147391</td>\n",
       "    </tr>\n",
       "    <tr>\n",
       "      <th>Maximum</th>\n",
       "      <td>0.119808</td>\n",
       "      <td>0.157457</td>\n",
       "      <td>0.147299</td>\n",
       "      <td>0.160524</td>\n",
       "      <td>0.113010</td>\n",
       "      <td>0.064796</td>\n",
       "      <td>0.142169</td>\n",
       "    </tr>\n",
       "  </tbody>\n",
       "</table>\n",
       "</div>"
      ],
      "text/plain": [
       "                        AAPL       AMZN         GE       GOOG        IBM  \\\n",
       "(Ann.) Returns      0.237492   0.226191  -0.024856   0.165097   0.015860   \n",
       "(Ann.) Std          0.291064   0.325284   0.324477   0.267496   0.229157   \n",
       "Skewness           -0.072334   0.412764   0.166840   0.423256  -0.539957   \n",
       "Kurtosis            8.487689  10.548673  10.819122  11.823880  13.250569   \n",
       "VaR 0.99           -0.048387  -0.056431  -0.059087  -0.047631  -0.043399   \n",
       "Normal VaR 0.99    -0.041640  -0.046651  -0.047442  -0.038453  -0.033415   \n",
       "Normal CF VaR 0.99 -0.066104  -0.075270  -0.082082  -0.066826  -0.072159   \n",
       "ES 0.99            -0.068166  -0.074504  -0.081151  -0.060446  -0.065567   \n",
       "Max Drawdown       -0.437972  -0.561453  -0.811914  -0.446018  -0.437200   \n",
       "Minimum            -0.128647  -0.140494  -0.151592  -0.111008  -0.128507   \n",
       "Maximum             0.119808   0.157457   0.147299   0.160524   0.113010   \n",
       "\n",
       "                           KO       MSFT  \n",
       "(Ann.) Returns       0.089164   0.245821  \n",
       "(Ann.) Std           0.177299   0.265326  \n",
       "Skewness            -0.664707   0.034956  \n",
       "Kurtosis            12.816791  11.632546  \n",
       "VaR 0.99            -0.031608  -0.042652  \n",
       "Normal VaR 0.99     -0.025581  -0.037870  \n",
       "Normal CF VaR 0.99  -0.054817  -0.071164  \n",
       "ES 0.99             -0.049247  -0.061645  \n",
       "Max Drawdown        -0.369875  -0.371485  \n",
       "Minimum             -0.096725  -0.147391  \n",
       "Maximum              0.064796   0.142169  "
      ]
     },
     "execution_count": 124,
     "metadata": {},
     "output_type": "execute_result"
    }
   ],
   "source": [
    "ql.summary_stats(rets, CL=CL)"
   ]
  },
  {
   "cell_type": "code",
   "execution_count": null,
   "metadata": {},
   "outputs": [],
   "source": []
  },
  {
   "cell_type": "code",
   "execution_count": null,
   "metadata": {},
   "outputs": [],
   "source": []
  },
  {
   "cell_type": "code",
   "execution_count": null,
   "metadata": {},
   "outputs": [],
   "source": []
  },
  {
   "cell_type": "code",
   "execution_count": null,
   "metadata": {},
   "outputs": [],
   "source": [
    "#qt.is_normal(rets, siglev=0.05)"
   ]
  },
  {
   "cell_type": "code",
   "execution_count": null,
   "metadata": {},
   "outputs": [],
   "source": []
  },
  {
   "cell_type": "code",
   "execution_count": null,
   "metadata": {},
   "outputs": [],
   "source": []
  },
  {
   "cell_type": "code",
   "execution_count": null,
   "metadata": {},
   "outputs": [],
   "source": []
  },
  {
   "cell_type": "code",
   "execution_count": null,
   "metadata": {},
   "outputs": [],
   "source": []
  },
  {
   "cell_type": "code",
   "execution_count": 39,
   "metadata": {},
   "outputs": [],
   "source": [
    "#rets.kurt()\n",
    "#qt.kurtosis(rets, excess=True)"
   ]
  },
  {
   "cell_type": "code",
   "execution_count": 122,
   "metadata": {},
   "outputs": [],
   "source": [
    "#qt.sample_cov(rets)\n",
    "#qt.cc_cov(rets)\n",
    "#qt.shrinkage_cov(rets, delta=0.3)"
   ]
  },
  {
   "cell_type": "code",
   "execution_count": null,
   "metadata": {},
   "outputs": [],
   "source": []
  }
 ],
 "metadata": {
  "kernelspec": {
   "display_name": "Python 3 (ipykernel)",
   "language": "python",
   "name": "python3"
  },
  "language_info": {
   "codemirror_mode": {
    "name": "ipython",
    "version": 3
   },
   "file_extension": ".py",
   "mimetype": "text/x-python",
   "name": "python",
   "nbconvert_exporter": "python",
   "pygments_lexer": "ipython3",
   "version": "3.9.7"
  }
 },
 "nbformat": 4,
 "nbformat_minor": 4
}
