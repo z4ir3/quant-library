{
 "cells": [
  {
   "cell_type": "markdown",
   "metadata": {},
   "source": [
    "# Quantlib - Tutorial"
   ]
  },
  {
   "cell_type": "code",
   "execution_count": 7,
   "metadata": {},
   "outputs": [],
   "source": [
    "from src import quantlib as ql"
   ]
  },
  {
   "cell_type": "code",
   "execution_count": 8,
   "metadata": {},
   "outputs": [
    {
     "name": "stdout",
     "output_type": "stream",
     "text": [
      "The autoreload extension is already loaded. To reload it, use:\n",
      "  %reload_ext autoreload\n"
     ]
    }
   ],
   "source": [
    "%load_ext autoreload\n",
    "%autoreload 2\n",
    "#%matplotlib inline"
   ]
  },
  {
   "cell_type": "code",
   "execution_count": null,
   "metadata": {},
   "outputs": [],
   "source": []
  },
  {
   "cell_type": "markdown",
   "metadata": {},
   "source": [
    "#### Loading financial time series "
   ]
  },
  {
   "cell_type": "code",
   "execution_count": 11,
   "metadata": {},
   "outputs": [],
   "source": [
    "tickers   = [\"MSFT\",\"AAPL\",\"AMZN\",\"NFLX\",\"GOOG\",\"KO\",\"GE\",\"IBM\"]\n",
    "startdate = \"2011-12-31\" \n",
    "enddate   = \"2022-12-31\" "
   ]
  },
  {
   "cell_type": "code",
   "execution_count": 12,
   "metadata": {},
   "outputs": [
    {
     "data": {
      "text/html": [
       "<div>\n",
       "<style scoped>\n",
       "    .dataframe tbody tr th:only-of-type {\n",
       "        vertical-align: middle;\n",
       "    }\n",
       "\n",
       "    .dataframe tbody tr th {\n",
       "        vertical-align: top;\n",
       "    }\n",
       "\n",
       "    .dataframe thead th {\n",
       "        text-align: right;\n",
       "    }\n",
       "</style>\n",
       "<table border=\"1\" class=\"dataframe\">\n",
       "  <thead>\n",
       "    <tr style=\"text-align: right;\">\n",
       "      <th></th>\n",
       "      <th>AAPL</th>\n",
       "      <th>AMZN</th>\n",
       "      <th>GE</th>\n",
       "      <th>GOOG</th>\n",
       "      <th>IBM</th>\n",
       "      <th>KO</th>\n",
       "      <th>MSFT</th>\n",
       "      <th>NFLX</th>\n",
       "    </tr>\n",
       "    <tr>\n",
       "      <th>Date</th>\n",
       "      <th></th>\n",
       "      <th></th>\n",
       "      <th></th>\n",
       "      <th></th>\n",
       "      <th></th>\n",
       "      <th></th>\n",
       "      <th></th>\n",
       "      <th></th>\n",
       "    </tr>\n",
       "  </thead>\n",
       "  <tbody>\n",
       "    <tr>\n",
       "      <th>2012-01-03</th>\n",
       "      <td>12.500191</td>\n",
       "      <td>8.951500</td>\n",
       "      <td>86.231956</td>\n",
       "      <td>16.573130</td>\n",
       "      <td>117.096077</td>\n",
       "      <td>24.902027</td>\n",
       "      <td>21.413059</td>\n",
       "      <td>10.320000</td>\n",
       "    </tr>\n",
       "    <tr>\n",
       "      <th>2012-01-04</th>\n",
       "      <td>12.567370</td>\n",
       "      <td>8.875500</td>\n",
       "      <td>87.171318</td>\n",
       "      <td>16.644611</td>\n",
       "      <td>116.618393</td>\n",
       "      <td>24.745811</td>\n",
       "      <td>21.916996</td>\n",
       "      <td>11.492857</td>\n",
       "    </tr>\n",
       "    <tr>\n",
       "      <th>2012-01-05</th>\n",
       "      <td>12.706893</td>\n",
       "      <td>8.880500</td>\n",
       "      <td>87.124344</td>\n",
       "      <td>16.413727</td>\n",
       "      <td>116.065300</td>\n",
       "      <td>24.628654</td>\n",
       "      <td>22.140968</td>\n",
       "      <td>11.328571</td>\n",
       "    </tr>\n",
       "    <tr>\n",
       "      <th>2012-01-06</th>\n",
       "      <td>12.839728</td>\n",
       "      <td>9.130500</td>\n",
       "      <td>87.594009</td>\n",
       "      <td>16.189817</td>\n",
       "      <td>114.732773</td>\n",
       "      <td>24.472435</td>\n",
       "      <td>22.484917</td>\n",
       "      <td>12.327143</td>\n",
       "    </tr>\n",
       "    <tr>\n",
       "      <th>2012-01-09</th>\n",
       "      <td>12.819363</td>\n",
       "      <td>8.928000</td>\n",
       "      <td>88.580315</td>\n",
       "      <td>15.503389</td>\n",
       "      <td>114.135628</td>\n",
       "      <td>24.472435</td>\n",
       "      <td>22.188959</td>\n",
       "      <td>14.025714</td>\n",
       "    </tr>\n",
       "    <tr>\n",
       "      <th>...</th>\n",
       "      <td>...</td>\n",
       "      <td>...</td>\n",
       "      <td>...</td>\n",
       "      <td>...</td>\n",
       "      <td>...</td>\n",
       "      <td>...</td>\n",
       "      <td>...</td>\n",
       "      <td>...</td>\n",
       "    </tr>\n",
       "    <tr>\n",
       "      <th>2022-12-23</th>\n",
       "      <td>131.658981</td>\n",
       "      <td>85.250000</td>\n",
       "      <td>63.848557</td>\n",
       "      <td>89.809998</td>\n",
       "      <td>139.931198</td>\n",
       "      <td>63.820000</td>\n",
       "      <td>238.133545</td>\n",
       "      <td>294.959991</td>\n",
       "    </tr>\n",
       "    <tr>\n",
       "      <th>2022-12-27</th>\n",
       "      <td>129.831772</td>\n",
       "      <td>83.040001</td>\n",
       "      <td>64.668228</td>\n",
       "      <td>87.930000</td>\n",
       "      <td>140.691849</td>\n",
       "      <td>64.209999</td>\n",
       "      <td>236.367981</td>\n",
       "      <td>284.170013</td>\n",
       "    </tr>\n",
       "    <tr>\n",
       "      <th>2022-12-28</th>\n",
       "      <td>125.847855</td>\n",
       "      <td>81.820000</td>\n",
       "      <td>63.989071</td>\n",
       "      <td>86.459999</td>\n",
       "      <td>138.320984</td>\n",
       "      <td>63.570000</td>\n",
       "      <td>233.944031</td>\n",
       "      <td>276.880005</td>\n",
       "    </tr>\n",
       "    <tr>\n",
       "      <th>2022-12-29</th>\n",
       "      <td>129.412415</td>\n",
       "      <td>84.180000</td>\n",
       "      <td>65.378609</td>\n",
       "      <td>88.949997</td>\n",
       "      <td>139.348358</td>\n",
       "      <td>63.950001</td>\n",
       "      <td>240.407837</td>\n",
       "      <td>291.119995</td>\n",
       "    </tr>\n",
       "    <tr>\n",
       "      <th>2022-12-30</th>\n",
       "      <td>129.731918</td>\n",
       "      <td>84.000000</td>\n",
       "      <td>65.409836</td>\n",
       "      <td>88.730003</td>\n",
       "      <td>139.180420</td>\n",
       "      <td>63.610001</td>\n",
       "      <td>239.220825</td>\n",
       "      <td>294.880005</td>\n",
       "    </tr>\n",
       "  </tbody>\n",
       "</table>\n",
       "<p>2768 rows × 8 columns</p>\n",
       "</div>"
      ],
      "text/plain": [
       "                  AAPL       AMZN         GE       GOOG         IBM  \\\n",
       "Date                                                                  \n",
       "2012-01-03   12.500191   8.951500  86.231956  16.573130  117.096077   \n",
       "2012-01-04   12.567370   8.875500  87.171318  16.644611  116.618393   \n",
       "2012-01-05   12.706893   8.880500  87.124344  16.413727  116.065300   \n",
       "2012-01-06   12.839728   9.130500  87.594009  16.189817  114.732773   \n",
       "2012-01-09   12.819363   8.928000  88.580315  15.503389  114.135628   \n",
       "...                ...        ...        ...        ...         ...   \n",
       "2022-12-23  131.658981  85.250000  63.848557  89.809998  139.931198   \n",
       "2022-12-27  129.831772  83.040001  64.668228  87.930000  140.691849   \n",
       "2022-12-28  125.847855  81.820000  63.989071  86.459999  138.320984   \n",
       "2022-12-29  129.412415  84.180000  65.378609  88.949997  139.348358   \n",
       "2022-12-30  129.731918  84.000000  65.409836  88.730003  139.180420   \n",
       "\n",
       "                   KO        MSFT        NFLX  \n",
       "Date                                           \n",
       "2012-01-03  24.902027   21.413059   10.320000  \n",
       "2012-01-04  24.745811   21.916996   11.492857  \n",
       "2012-01-05  24.628654   22.140968   11.328571  \n",
       "2012-01-06  24.472435   22.484917   12.327143  \n",
       "2012-01-09  24.472435   22.188959   14.025714  \n",
       "...               ...         ...         ...  \n",
       "2022-12-23  63.820000  238.133545  294.959991  \n",
       "2022-12-27  64.209999  236.367981  284.170013  \n",
       "2022-12-28  63.570000  233.944031  276.880005  \n",
       "2022-12-29  63.950001  240.407837  291.119995  \n",
       "2022-12-30  63.610001  239.220825  294.880005  \n",
       "\n",
       "[2768 rows x 8 columns]"
      ]
     },
     "execution_count": 12,
     "metadata": {},
     "output_type": "execute_result"
    }
   ],
   "source": [
    "assets = ql.getassets(tickers, startdate=startdate, enddate=enddate, datatype=\"Adj Close\")\n",
    "assets"
   ]
  },
  {
   "cell_type": "code",
   "execution_count": 13,
   "metadata": {},
   "outputs": [
    {
     "data": {
      "text/html": [
       "<div>\n",
       "<style scoped>\n",
       "    .dataframe tbody tr th:only-of-type {\n",
       "        vertical-align: middle;\n",
       "    }\n",
       "\n",
       "    .dataframe tbody tr th {\n",
       "        vertical-align: top;\n",
       "    }\n",
       "\n",
       "    .dataframe thead th {\n",
       "        text-align: right;\n",
       "    }\n",
       "</style>\n",
       "<table border=\"1\" class=\"dataframe\">\n",
       "  <thead>\n",
       "    <tr style=\"text-align: right;\">\n",
       "      <th></th>\n",
       "      <th>AAPL</th>\n",
       "      <th>AMZN</th>\n",
       "      <th>GE</th>\n",
       "      <th>GOOG</th>\n",
       "      <th>IBM</th>\n",
       "      <th>KO</th>\n",
       "      <th>MSFT</th>\n",
       "      <th>NFLX</th>\n",
       "    </tr>\n",
       "    <tr>\n",
       "      <th>Date</th>\n",
       "      <th></th>\n",
       "      <th></th>\n",
       "      <th></th>\n",
       "      <th></th>\n",
       "      <th></th>\n",
       "      <th></th>\n",
       "      <th></th>\n",
       "      <th></th>\n",
       "    </tr>\n",
       "  </thead>\n",
       "  <tbody>\n",
       "    <tr>\n",
       "      <th>2012-01-04</th>\n",
       "      <td>0.005374</td>\n",
       "      <td>-0.008490</td>\n",
       "      <td>0.010893</td>\n",
       "      <td>0.004313</td>\n",
       "      <td>-0.004079</td>\n",
       "      <td>-0.006273</td>\n",
       "      <td>0.023534</td>\n",
       "      <td>0.113649</td>\n",
       "    </tr>\n",
       "    <tr>\n",
       "      <th>2012-01-05</th>\n",
       "      <td>0.011102</td>\n",
       "      <td>0.000563</td>\n",
       "      <td>-0.000539</td>\n",
       "      <td>-0.013871</td>\n",
       "      <td>-0.004743</td>\n",
       "      <td>-0.004734</td>\n",
       "      <td>0.010219</td>\n",
       "      <td>-0.014295</td>\n",
       "    </tr>\n",
       "    <tr>\n",
       "      <th>2012-01-06</th>\n",
       "      <td>0.010454</td>\n",
       "      <td>0.028152</td>\n",
       "      <td>0.005391</td>\n",
       "      <td>-0.013642</td>\n",
       "      <td>-0.011481</td>\n",
       "      <td>-0.006343</td>\n",
       "      <td>0.015534</td>\n",
       "      <td>0.088146</td>\n",
       "    </tr>\n",
       "    <tr>\n",
       "      <th>2012-01-09</th>\n",
       "      <td>-0.001586</td>\n",
       "      <td>-0.022178</td>\n",
       "      <td>0.011260</td>\n",
       "      <td>-0.042399</td>\n",
       "      <td>-0.005205</td>\n",
       "      <td>0.000000</td>\n",
       "      <td>-0.013162</td>\n",
       "      <td>0.137791</td>\n",
       "    </tr>\n",
       "    <tr>\n",
       "      <th>2012-01-10</th>\n",
       "      <td>0.003580</td>\n",
       "      <td>0.004368</td>\n",
       "      <td>-0.007423</td>\n",
       "      <td>0.001092</td>\n",
       "      <td>-0.001542</td>\n",
       "      <td>0.005948</td>\n",
       "      <td>0.003605</td>\n",
       "      <td>-0.023936</td>\n",
       "    </tr>\n",
       "    <tr>\n",
       "      <th>...</th>\n",
       "      <td>...</td>\n",
       "      <td>...</td>\n",
       "      <td>...</td>\n",
       "      <td>...</td>\n",
       "      <td>...</td>\n",
       "      <td>...</td>\n",
       "      <td>...</td>\n",
       "      <td>...</td>\n",
       "    </tr>\n",
       "    <tr>\n",
       "      <th>2022-12-23</th>\n",
       "      <td>-0.002798</td>\n",
       "      <td>0.017425</td>\n",
       "      <td>0.000245</td>\n",
       "      <td>0.017562</td>\n",
       "      <td>0.005466</td>\n",
       "      <td>0.007578</td>\n",
       "      <td>0.002267</td>\n",
       "      <td>-0.009370</td>\n",
       "    </tr>\n",
       "    <tr>\n",
       "      <th>2022-12-27</th>\n",
       "      <td>-0.013878</td>\n",
       "      <td>-0.025924</td>\n",
       "      <td>0.012838</td>\n",
       "      <td>-0.020933</td>\n",
       "      <td>0.005436</td>\n",
       "      <td>0.006111</td>\n",
       "      <td>-0.007414</td>\n",
       "      <td>-0.036581</td>\n",
       "    </tr>\n",
       "    <tr>\n",
       "      <th>2022-12-28</th>\n",
       "      <td>-0.030685</td>\n",
       "      <td>-0.014692</td>\n",
       "      <td>-0.010502</td>\n",
       "      <td>-0.016718</td>\n",
       "      <td>-0.016851</td>\n",
       "      <td>-0.009967</td>\n",
       "      <td>-0.010255</td>\n",
       "      <td>-0.025654</td>\n",
       "    </tr>\n",
       "    <tr>\n",
       "      <th>2022-12-29</th>\n",
       "      <td>0.028324</td>\n",
       "      <td>0.028844</td>\n",
       "      <td>0.021715</td>\n",
       "      <td>0.028799</td>\n",
       "      <td>0.007427</td>\n",
       "      <td>0.005978</td>\n",
       "      <td>0.027630</td>\n",
       "      <td>0.051430</td>\n",
       "    </tr>\n",
       "    <tr>\n",
       "      <th>2022-12-30</th>\n",
       "      <td>0.002469</td>\n",
       "      <td>-0.002138</td>\n",
       "      <td>0.000478</td>\n",
       "      <td>-0.002473</td>\n",
       "      <td>-0.001205</td>\n",
       "      <td>-0.005317</td>\n",
       "      <td>-0.004937</td>\n",
       "      <td>0.012916</td>\n",
       "    </tr>\n",
       "  </tbody>\n",
       "</table>\n",
       "<p>2767 rows × 8 columns</p>\n",
       "</div>"
      ],
      "text/plain": [
       "                AAPL      AMZN        GE      GOOG       IBM        KO  \\\n",
       "Date                                                                     \n",
       "2012-01-04  0.005374 -0.008490  0.010893  0.004313 -0.004079 -0.006273   \n",
       "2012-01-05  0.011102  0.000563 -0.000539 -0.013871 -0.004743 -0.004734   \n",
       "2012-01-06  0.010454  0.028152  0.005391 -0.013642 -0.011481 -0.006343   \n",
       "2012-01-09 -0.001586 -0.022178  0.011260 -0.042399 -0.005205  0.000000   \n",
       "2012-01-10  0.003580  0.004368 -0.007423  0.001092 -0.001542  0.005948   \n",
       "...              ...       ...       ...       ...       ...       ...   \n",
       "2022-12-23 -0.002798  0.017425  0.000245  0.017562  0.005466  0.007578   \n",
       "2022-12-27 -0.013878 -0.025924  0.012838 -0.020933  0.005436  0.006111   \n",
       "2022-12-28 -0.030685 -0.014692 -0.010502 -0.016718 -0.016851 -0.009967   \n",
       "2022-12-29  0.028324  0.028844  0.021715  0.028799  0.007427  0.005978   \n",
       "2022-12-30  0.002469 -0.002138  0.000478 -0.002473 -0.001205 -0.005317   \n",
       "\n",
       "                MSFT      NFLX  \n",
       "Date                            \n",
       "2012-01-04  0.023534  0.113649  \n",
       "2012-01-05  0.010219 -0.014295  \n",
       "2012-01-06  0.015534  0.088146  \n",
       "2012-01-09 -0.013162  0.137791  \n",
       "2012-01-10  0.003605 -0.023936  \n",
       "...              ...       ...  \n",
       "2022-12-23  0.002267 -0.009370  \n",
       "2022-12-27 -0.007414 -0.036581  \n",
       "2022-12-28 -0.010255 -0.025654  \n",
       "2022-12-29  0.027630  0.051430  \n",
       "2022-12-30 -0.004937  0.012916  \n",
       "\n",
       "[2767 rows x 8 columns]"
      ]
     },
     "execution_count": 13,
     "metadata": {},
     "output_type": "execute_result"
    }
   ],
   "source": [
    "rets = ql.compute_returns(assets, mpor=1, ascending=True, dropna=True)\n",
    "rets"
   ]
  },
  {
   "cell_type": "code",
   "execution_count": 113,
   "metadata": {},
   "outputs": [],
   "source": [
    "#qt.compound(rets)"
   ]
  },
  {
   "cell_type": "code",
   "execution_count": 27,
   "metadata": {},
   "outputs": [],
   "source": [
    "#qt.compound_returns(rets)"
   ]
  },
  {
   "cell_type": "code",
   "execution_count": 28,
   "metadata": {},
   "outputs": [],
   "source": [
    "#qt.compute_logreturns(assets, mpor=5, ascending=True, dropna=True)"
   ]
  },
  {
   "cell_type": "code",
   "execution_count": 29,
   "metadata": {},
   "outputs": [],
   "source": [
    "#qt.drawdown(assets, rets=False, maxd=True, percent=True)#.plot()"
   ]
  },
  {
   "cell_type": "code",
   "execution_count": 30,
   "metadata": {},
   "outputs": [],
   "source": [
    "#qt.drawdown(assets, rets=False, maxd=True, percent=True)"
   ]
  },
  {
   "cell_type": "code",
   "execution_count": 31,
   "metadata": {},
   "outputs": [],
   "source": [
    "#qt.drawdown(rets, rets=True, maxd=False, percent=True).plot()"
   ]
  },
  {
   "cell_type": "code",
   "execution_count": 32,
   "metadata": {},
   "outputs": [],
   "source": [
    "#qt.drawdown(rets, rets=True, maxd=True, percent=True)"
   ]
  },
  {
   "cell_type": "code",
   "execution_count": 33,
   "metadata": {},
   "outputs": [],
   "source": [
    "#qt.drawup(assets).plot()"
   ]
  },
  {
   "cell_type": "code",
   "execution_count": 34,
   "metadata": {},
   "outputs": [],
   "source": [
    "#qt.is_normal(rets, siglev=0.05)"
   ]
  },
  {
   "cell_type": "code",
   "execution_count": 35,
   "metadata": {},
   "outputs": [],
   "source": [
    "#qt.semistd(rets, negative=False)"
   ]
  },
  {
   "cell_type": "code",
   "execution_count": 36,
   "metadata": {},
   "outputs": [],
   "source": [
    "#qt.annualize_returns(rets, ppy=252)"
   ]
  },
  {
   "cell_type": "code",
   "execution_count": 37,
   "metadata": {},
   "outputs": [],
   "source": [
    "#qt.annualize_std(rets, ppy=252)"
   ]
  },
  {
   "cell_type": "code",
   "execution_count": 38,
   "metadata": {},
   "outputs": [],
   "source": [
    "#qt.hvar(rets, CL=99/100) \n",
    "#qt.HVaR(rets, CL=99/100)\n",
    "#qt.es(rets, CL=99/100)\n",
    "#qt.ES(rets, CL=99/100)"
   ]
  },
  {
   "cell_type": "code",
   "execution_count": 39,
   "metadata": {},
   "outputs": [],
   "source": [
    "#rets.kurt()\n",
    "#qt.kurtosis(rets, excess=True)"
   ]
  },
  {
   "cell_type": "code",
   "execution_count": 40,
   "metadata": {},
   "outputs": [],
   "source": [
    "#qt.hvar_normal(rets, CL=99/100, cf=False, ddof=1)"
   ]
  },
  {
   "cell_type": "code",
   "execution_count": 65,
   "metadata": {},
   "outputs": [],
   "source": [
    "#qt.summary_stats(rets[\"AAPL\"], CL=99/100)"
   ]
  },
  {
   "cell_type": "code",
   "execution_count": 90,
   "metadata": {},
   "outputs": [],
   "source": [
    "#qt.summary_stats(rets, CL=99/100)"
   ]
  },
  {
   "cell_type": "code",
   "execution_count": 122,
   "metadata": {},
   "outputs": [],
   "source": [
    "#qt.sample_cov(rets)\n",
    "#qt.cc_cov(rets)\n",
    "#qt.shrinkage_cov(rets, delta=0.3)"
   ]
  },
  {
   "cell_type": "code",
   "execution_count": null,
   "metadata": {},
   "outputs": [],
   "source": []
  }
 ],
 "metadata": {
  "kernelspec": {
   "display_name": "Python 3 (ipykernel)",
   "language": "python",
   "name": "python3"
  },
  "language_info": {
   "codemirror_mode": {
    "name": "ipython",
    "version": 3
   },
   "file_extension": ".py",
   "mimetype": "text/x-python",
   "name": "python",
   "nbconvert_exporter": "python",
   "pygments_lexer": "ipython3",
   "version": "3.9.7"
  }
 },
 "nbformat": 4,
 "nbformat_minor": 4
}
